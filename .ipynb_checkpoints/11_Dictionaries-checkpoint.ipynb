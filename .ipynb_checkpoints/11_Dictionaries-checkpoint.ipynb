{
 "cells": [
  {
   "cell_type": "markdown",
   "id": "00e834de",
   "metadata": {},
   "source": [
    "# Dictionaries\n",
    "\n",
    "Dictionaries, which in other programming languages are also called *Maps*, *Hashtables* or *Associative Arrays*, are one of the most important data types in Python. In a dictionary\n",
    "each value is referenced by a key. So, each entry consists of a key and its associated value.\n",
    "\n",
    "<img src=\"img/dict.svg\" alt=\"Dictionary\" style=\"height: 120px\">\n",
    "\n",
    "A dictionary is a powerful and flexible tool for caching and retrieving data very quickly.\n",
    "and find it again very quickly.\n",
    "\n",
    "Dictionaries can be extended and shortened at any time. As with lists, the\n",
    "values stored in a dictionary can be overwritten. Thus, dictionaries belong to the mutable data types.\n",
    "\n",
    "With Python 3.6 the type dictionary was newly implemented, whereby (at least internally) the\n",
    "internally) the order of the elements in a dictionary remains stable. This is not guaranteed for older versions.\n"
   ]
  },
  {
   "cell_type": "markdown",
   "id": "9f916860",
   "metadata": {},
   "source": [
    "## Intro"
   ]
  },
  {
   "cell_type": "markdown",
   "id": "05ebd13c",
   "metadata": {},
   "source": [
    "### Creating and filling up a dictionary\n",
    "\n",
    "An empty dictionary is created like this:"
   ]
  },
  {
   "cell_type": "code",
   "execution_count": null,
   "id": "8aefd198",
   "metadata": {},
   "outputs": [],
   "source": [
    "phone_numbers = {}"
   ]
  },
  {
   "cell_type": "markdown",
   "id": "a4a20245",
   "metadata": {},
   "source": [
    "so, <b>values</b> and <b>keys</b> can be added afterwards"
   ]
  },
  {
   "cell_type": "code",
   "execution_count": null,
   "id": "937d0208",
   "metadata": {},
   "outputs": [],
   "source": [
    "phone_numbers['Santa'] = '0316 123456'\n",
    "phone_numbers['Maus'] = '0664 345678'\n",
    "phone_numbers['Willy'] = '0660 987654'\n",
    "\n",
    "phone_numbers"
   ]
  },
  {
   "cell_type": "markdown",
   "id": "ddcc3876",
   "metadata": {},
   "source": [
    "You can also create the key-value pairs directly when creating the dictionary:"
   ]
  },
  {
   "cell_type": "code",
   "execution_count": null,
   "id": "f606a360",
   "metadata": {},
   "outputs": [],
   "source": [
    "phone_numbers = {\n",
    "    'Santa': '0316 123456',\n",
    "    'Maus': '0664 345678',\n",
    "    'Willy': '0660 987654'\n",
    "}\n",
    "phone_numbers"
   ]
  },
  {
   "cell_type": "markdown",
   "id": "afc3beb1",
   "metadata": {},
   "source": [
    "<div class=\"alert alert-block alert-info\">\n",
    "<b>Exercise Dict-1</b>\n",
    "<p>\n",
    "Create a dictionary containing 5 English words and their definitions (Google).\n",
    "</p>"
   ]
  },
  {
   "cell_type": "markdown",
   "id": "debf7d4c",
   "metadata": {},
   "source": [
    "### Keys - duplicates not allowed"
   ]
  },
  {
   "cell_type": "markdown",
   "id": "66c3e7e3",
   "metadata": {},
   "source": [
    "A key can only be used once in a dictionary. If it is used a second time, the original value is overwritten."
   ]
  },
  {
   "cell_type": "code",
   "execution_count": null,
   "id": "c09e4e6f",
   "metadata": {},
   "outputs": [],
   "source": [
    "print(phone_numbers['Santa'])\n",
    "phone_numbers['Santa'] = 'new number'\n",
    "phone_numbers"
   ]
  },
  {
   "cell_type": "markdown",
   "id": "2a2a1f2e",
   "metadata": {},
   "source": [
    "Strings are mostly used as key. However, dictionaries allow any immutable data type as a key. You can also use integers, floats or tuples as keys, for example. However, changeable data types such as lists, sets or dictionaries are not permitted as keys."
   ]
  },
  {
   "cell_type": "code",
   "execution_count": null,
   "id": "094315b2",
   "metadata": {},
   "outputs": [],
   "source": [
    "my_dict = {}\n",
    "\n",
    "my_dict[42] = 'Solution'\n",
    "my_dict[3.14] = 'Pi'\n",
    "print(my_dict)"
   ]
  },
  {
   "cell_type": "markdown",
   "id": "0c3c2065",
   "metadata": {},
   "source": [
    "Here is an invalid data type as a key:"
   ]
  },
  {
   "cell_type": "code",
   "execution_count": null,
   "id": "b733325e",
   "metadata": {},
   "outputs": [],
   "source": [
    "my_dict[['a', 'b', 'c']] = 'abc'"
   ]
  },
  {
   "cell_type": "markdown",
   "id": "8b2ce9a3",
   "metadata": {},
   "source": [
    "<div class=\"alert alert-block alert-info\">\n",
    "<b>Exercise Dict-2</b>\n",
    "<p>\n",
    "Replace a value from the dictionary from exercise Dict-1 with \n",
    "    another definition!\n",
    "</p>\n",
    "</div>"
   ]
  },
  {
   "cell_type": "markdown",
   "id": "f127291a",
   "metadata": {},
   "source": [
    "## Get the number of elements\n",
    "\n",
    "The `len()` method, which we have already seen for some other data types, also works for dictionaries. It determines the number of key-value pairs in the dict."
   ]
  },
  {
   "cell_type": "code",
   "execution_count": null,
   "id": "3bfb8bf4",
   "metadata": {},
   "outputs": [],
   "source": [
    "phone_numbers = {\n",
    "    'Santa': '0316 123456',\n",
    "    'Maus': '0664 345678',\n",
    "    'Willy': '0660 987654'\n",
    "}\n",
    "len(phone_numbers)"
   ]
  },
  {
   "cell_type": "markdown",
   "id": "5c10443f",
   "metadata": {},
   "source": [
    "## Iterate over a dictionary with a for loop"
   ]
  },
  {
   "cell_type": "markdown",
   "id": "7993efb2",
   "metadata": {},
   "source": [
    "The well-known `for ... in` loop also works with dictionaries."
   ]
  },
  {
   "cell_type": "code",
   "execution_count": null,
   "id": "280f3b8d",
   "metadata": {},
   "outputs": [],
   "source": [
    "for key in phone_numbers:\n",
    "    print(key)"
   ]
  },
  {
   "cell_type": "markdown",
   "id": "b9bcd707",
   "metadata": {},
   "source": [
    "As we can see, `for ... in` returns one key after the other. We can read out the corresponding value in a known way:"
   ]
  },
  {
   "cell_type": "code",
   "execution_count": null,
   "id": "76e935d7",
   "metadata": {},
   "outputs": [],
   "source": [
    "for key in phone_numbers:\n",
    "    print(f\"{key} -> {phone_numbers[key]}\")"
   ]
  },
  {
   "cell_type": "markdown",
   "id": "fb12f42b",
   "metadata": {},
   "source": [
    "### The items() method\n",
    "Alternatively, we can use the `items()` method, which returns each key and value as a tuple:"
   ]
  },
  {
   "cell_type": "code",
   "execution_count": null,
   "id": "6ec678b8",
   "metadata": {},
   "outputs": [],
   "source": [
    "for key, value in phone_numbers.items():\n",
    "    print('{} -> {}'.format(key, value))"
   ]
  },
  {
   "cell_type": "markdown",
   "id": "bff5cecd",
   "metadata": {},
   "source": [
    "### The values() method\n",
    "\n",
    "If we are not interested in the keys, we can only iterate over the values in a loop:"
   ]
  },
  {
   "cell_type": "code",
   "execution_count": null,
   "id": "2dcc657d",
   "metadata": {},
   "outputs": [],
   "source": [
    "for value in phone_numbers.values():\n",
    "    print(value)"
   ]
  },
  {
   "cell_type": "markdown",
   "id": "146e96f8",
   "metadata": {},
   "source": [
    "<div class=\"alert alert-block alert-info\">\n",
    "<b>Exercise Dict-3</b>\n",
    "<p>\n",
    "Iterate through the dictionary from Exercise Dict-1. For each entry in your dictionary, output a line that (example) should look like this:\n",
    "<pre>\n",
    "'dictionary' is a 'a book or electronic resource that lists the words of a language (typically in alphabetical order) and gives their meaning.'\n",
    "</pre>\n",
    "</p>\n",
    "</div>"
   ]
  },
  {
   "cell_type": "markdown",
   "id": "2fbbe606",
   "metadata": {},
   "source": [
    "## A dictionary as counter\n",
    "We can use a dictionary to count the names in the names file. Let's read the names back from the file first:"
   ]
  },
  {
   "cell_type": "code",
   "execution_count": null,
   "id": "f9b07347",
   "metadata": {},
   "outputs": [],
   "source": [
    "with open('data/names/names_short.txt', encoding='utf-8') as fh:\n",
    "    clean_names = [line.rstrip() for line in fh.readlines()]"
   ]
  },
  {
   "cell_type": "code",
   "execution_count": null,
   "id": "20745830",
   "metadata": {},
   "outputs": [],
   "source": [
    "clean_names"
   ]
  },
  {
   "cell_type": "markdown",
   "id": "b898103f",
   "metadata": {},
   "source": [
    "The `clean_names` list now contains all names read from the file. In the next step\n",
    "we create an empty dictionary. Then we iterate through the list of first names. We use the dictionary to count for each key (i.e. for each first name) how many times it appears (i.e. key is the first name, value is a number representing the number of occurrences of the name):"
   ]
  },
  {
   "cell_type": "code",
   "execution_count": null,
   "id": "7205c40a",
   "metadata": {},
   "outputs": [],
   "source": [
    "name_counter = {}\n",
    "for name in clean_names:\n",
    "    if name in name_counter:  # we saw the name before\n",
    "        name_counter[name] += 1\n",
    "    else:  # new name: create counter with 1\n",
    "        name_counter[name] = 1\n",
    "print(name_counter)        "
   ]
  },
  {
   "cell_type": "markdown",
   "id": "c579d707",
   "metadata": {},
   "source": [
    "If we are only interested in names that appear at least twice, we can solve it like this:"
   ]
  },
  {
   "cell_type": "code",
   "execution_count": null,
   "id": "07e5151c",
   "metadata": {},
   "outputs": [],
   "source": [
    "for name in name_counter:\n",
    "    if name_counter[name] > 1:\n",
    "        print(f'{name} appears {name_counter[name]} times')"
   ]
  },
  {
   "cell_type": "markdown",
   "id": "b37e2f11",
   "metadata": {},
   "source": [
    "## Nested dictionaries\n",
    "\n",
    "Just as an element of a list can again be a list, in a dictionary the value assigned to a key can again be a dictionary:"
   ]
  },
  {
   "cell_type": "code",
   "execution_count": null,
   "id": "ad2de492",
   "metadata": {},
   "outputs": [],
   "source": [
    "colors = {\n",
    "  'red': { \n",
    "      'de': 'rot ' , \n",
    "      'fr': 'rouge ' , \n",
    "      'it': 'rosso '\n",
    "  } ,\n",
    "  'blue': { \n",
    "    'de': 'blau',\n",
    "      'it': 'blu', \n",
    "      'fr': 'bleu' ,\n",
    "  } ,\n",
    "  'yellow': { \n",
    "      'de': 'gelb' , \n",
    "      'fr': 'jaune' , \n",
    "      'it': 'giallo'\n",
    "  }\n",
    "}"
   ]
  },
  {
   "cell_type": "markdown",
   "id": "a2d1e679",
   "metadata": {},
   "source": [
    "As already known from the lists, we can (with difficulty) access a single translation like this:"
   ]
  },
  {
   "cell_type": "code",
   "execution_count": null,
   "id": "f32bf5c4",
   "metadata": {},
   "outputs": [],
   "source": [
    "blue_translations = colors['blue']\n",
    "blue_translations['fr']"
   ]
  },
  {
   "cell_type": "markdown",
   "id": "668e7c04",
   "metadata": {},
   "source": [
    "Normally, however, the much more compact notation is used:"
   ]
  },
  {
   "cell_type": "code",
   "execution_count": null,
   "id": "f898dcac",
   "metadata": {},
   "outputs": [],
   "source": [
    "colors['blue']['fr']\n"
   ]
  },
  {
   "cell_type": "markdown",
   "id": "ecdccfd0",
   "metadata": {},
   "source": [
    "# Literature\n",
    "* https://www.w3schools.com/python/python_dictionaries.asp\n",
    "* https://realpython.com/python-dicts/\n",
    "* https://www.tutorialspoint.com/python/python_dictionary.htm "
   ]
  }
 ],
 "metadata": {
  "kernelspec": {
   "display_name": "Python 3 (ipykernel)",
   "language": "python",
   "name": "python3"
  },
  "language_info": {
   "codemirror_mode": {
    "name": "ipython",
    "version": 3
   },
   "file_extension": ".py",
   "mimetype": "text/x-python",
   "name": "python",
   "nbconvert_exporter": "python",
   "pygments_lexer": "ipython3",
   "version": "3.9.13"
  }
 },
 "nbformat": 4,
 "nbformat_minor": 5
}
