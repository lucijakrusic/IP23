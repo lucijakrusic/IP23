{
 "cells": [
  {
   "cell_type": "markdown",
   "metadata": {},
   "source": [
    "# Lists\n",
    "A list is an ordered sequence of items. \n",
    "You can think of a list as a container that contains other items in a particular order. A list (`list`) is thus another *sequence type* that we will learn about.\n",
    "\n",
    "In code, a list is indicated by square brackets.\n",
    "\n",
    "~~~\n",
    "my_friends = ['Otto', 'Anna', 'Berta', 'Fritz']\n",
    "~~~"
   ]
  },
  {
   "cell_type": "markdown",
   "metadata": {},
   "source": [
    "The data type of a list element does not matter. That means that elements of any type can be stored in a list:\n"
   ]
  },
  {
   "cell_type": "code",
   "execution_count": 1,
   "metadata": {},
   "outputs": [
    {
     "data": {
      "text/plain": [
       "['Charlie', 'Anna', 'Marko', 'Santa']"
      ]
     },
     "execution_count": 1,
     "metadata": {},
     "output_type": "execute_result"
    }
   ],
   "source": [
    "students = ['Charlie', 'Anna', 'Marko', 'Santa']\n",
    "students"
   ]
  },
  {
   "cell_type": "code",
   "execution_count": 2,
   "metadata": {},
   "outputs": [
    {
     "data": {
      "text/plain": [
       "[25.4, 28.1, 20.9, 26.0, 32.6]"
      ]
     },
     "execution_count": 2,
     "metadata": {},
     "output_type": "execute_result"
    }
   ],
   "source": [
    "temperatures = [25.4, 28.1, 20.9, 26.0, 32.6]\n",
    "temperatures"
   ]
  },
  {
   "cell_type": "code",
   "execution_count": 3,
   "metadata": {},
   "outputs": [
    {
     "data": {
      "text/plain": [
       "[1, 2, 1, 4, 3, 3, 2]"
      ]
     },
     "execution_count": 3,
     "metadata": {},
     "output_type": "execute_result"
    }
   ],
   "source": [
    "grades = [1, 2, 1, 4, 3, 3, 2]\n",
    "grades"
   ]
  },
  {
   "cell_type": "markdown",
   "metadata": {},
   "source": [
    "You can even store elements of different types in a list (but this is usually not a very good idea):"
   ]
  },
  {
   "cell_type": "code",
   "execution_count": 4,
   "metadata": {},
   "outputs": [
    {
     "data": {
      "text/plain": [
       "['Santa', 7, True, 3.14]"
      ]
     },
     "execution_count": 4,
     "metadata": {},
     "output_type": "execute_result"
    }
   ],
   "source": [
    "values = ['Santa', 7, True, 3.14]\n",
    "values"
   ]
  },
  {
   "cell_type": "markdown",
   "metadata": {},
   "source": [
    "Since a list -- like a string -- is a sequence type, many of the things we've learned about strings also work for lists. \n",
    "\n",
    "## Get the number of list elements\n",
    "We can get the number of elements in a list with the function `len()`:"
   ]
  },
  {
   "cell_type": "code",
   "execution_count": 5,
   "metadata": {},
   "outputs": [
    {
     "data": {
      "text/plain": [
       "4"
      ]
     },
     "execution_count": 5,
     "metadata": {},
     "output_type": "execute_result"
    }
   ],
   "source": [
    "len(students)"
   ]
  },
  {
   "cell_type": "markdown",
   "metadata": {},
   "source": [
    "## Address single elements\n",
    "Just as with a string a single character can be accessed via the index, with a list a specific element can be addressed:\n"
   ]
  },
  {
   "cell_type": "code",
   "execution_count": 6,
   "metadata": {},
   "outputs": [
    {
     "data": {
      "text/plain": [
       "'Charlie'"
      ]
     },
     "execution_count": 6,
     "metadata": {},
     "output_type": "execute_result"
    }
   ],
   "source": [
    "students[0]"
   ]
  },
  {
   "cell_type": "markdown",
   "metadata": {},
   "source": [
    "This also works for negative indexing"
   ]
  },
  {
   "cell_type": "code",
   "execution_count": 7,
   "metadata": {},
   "outputs": [
    {
     "data": {
      "text/plain": [
       "'Santa'"
      ]
     },
     "execution_count": 7,
     "metadata": {},
     "output_type": "execute_result"
    }
   ],
   "source": [
    "students[-1]"
   ]
  },
  {
   "cell_type": "markdown",
   "metadata": {},
   "source": [
    "## Slicing\n",
    "In addition, parts of the list can be extracted:"
   ]
  },
  {
   "cell_type": "code",
   "execution_count": 8,
   "metadata": {},
   "outputs": [
    {
     "data": {
      "text/plain": [
       "['Anna', 'Marko']"
      ]
     },
     "execution_count": 8,
     "metadata": {},
     "output_type": "execute_result"
    }
   ],
   "source": [
    "students[1:3]"
   ]
  },
  {
   "cell_type": "markdown",
   "metadata": {},
   "source": [
    "## Iterate through a list\n",
    "\n",
    "With a `for` loop we can iterate through the individual elements of a list, like we did for the individual characters of a string:"
   ]
  },
  {
   "cell_type": "code",
   "execution_count": 9,
   "metadata": {},
   "outputs": [
    {
     "name": "stdout",
     "output_type": "stream",
     "text": [
      "Charlie\n",
      "Anna\n",
      "Marko\n",
      "Santa\n"
     ]
    }
   ],
   "source": [
    "for student in students:\n",
    "    print(student)"
   ]
  },
  {
   "cell_type": "markdown",
   "metadata": {},
   "source": [
    "<div class=\"alert alert-block alert-info\">\n",
    "<b>Exercise 1a</b>\n",
    "\n",
    "<p>Make a list of the 5 things you ate recently. Think about a good name for the variable. </li>\n",
    "</p>\n",
    "</div>"
   ]
  },
  {
   "cell_type": "code",
   "execution_count": 9,
   "metadata": {},
   "outputs": [
    {
     "name": "stdout",
     "output_type": "stream",
     "text": [
      " 1.pizza\n",
      " 2.pasta\n",
      " 3.rice\n",
      " 4.chicken\n",
      " 5.Skyr\n"
     ]
    }
   ],
   "source": [
    "foods = [\"pizza\", \"pasta\", \"rice\", \"chicken\", \"Skyr\"]\n",
    "\n",
    "for i,food in enumerate(foods):\n",
    "    print(f\" {i+1}.{food}\")"
   ]
  },
  {
   "cell_type": "code",
   "execution_count": 10,
   "metadata": {},
   "outputs": [
    {
     "name": "stdout",
     "output_type": "stream",
     "text": [
      " 1.pizza\n",
      " 2.pasta\n",
      " 3.rice\n",
      " 4.chicken\n",
      " 5.Skyr\n"
     ]
    }
   ],
   "source": [
    "foods = [\"pizza\", \"pasta\", \"rice\", \"chicken\", \"Skyr\"]\n",
    "\n",
    "for i,food in enumerate(foods, start=1):\n",
    "    print(f\" {i}.{food}\")"
   ]
  },
  {
   "cell_type": "markdown",
   "metadata": {},
   "source": [
    "<div class=\"alert alert-block alert-info\">\n",
    "<b>Exercise 1b</b>\n",
    "\n",
    "<p>Output each dish in a separate line (through a loop) and number them with a counter (use the `enumerate()` function we learned about in the loops notebook).\n",
    "The output should look something like: </li>\n",
    "<pre>\n",
    "1. Pizza\n",
    "2. Cous cous\n",
    "3. Lasagne\n",
    "4. Schnitzel\n",
    "5. Goulash\n",
    "</pre>\n",
    "Make sure that the numbering begins with a 1.\n",
    "</p>\n",
    "</div>"
   ]
  },
  {
   "cell_type": "markdown",
   "metadata": {},
   "source": [
    "<div class=\"alert alert-block alert-info\">\n",
    "<b>Exercise 1c</b>\n",
    "\n",
    "<p>Output the last three dishes only. The output should look like this: </li>\n",
    "<pre>\n",
    "1. Lasagne\n",
    "2. Schnitzel\n",
    "3. Goulash\n",
    "</pre>\n",
    "Make sure that the numbering begins with a 1.\n",
    "</p>\n",
    "</div>"
   ]
  },
  {
   "cell_type": "code",
   "execution_count": 11,
   "metadata": {},
   "outputs": [
    {
     "name": "stdout",
     "output_type": "stream",
     "text": [
      " ['rice', 'chicken', 'Skyr']\n"
     ]
    }
   ],
   "source": [
    "print(f' {foods[-3:]}')"
   ]
  },
  {
   "cell_type": "code",
   "execution_count": 12,
   "metadata": {},
   "outputs": [
    {
     "name": "stdout",
     "output_type": "stream",
     "text": [
      " 3.rice\n",
      " 4.chicken\n",
      " 5.Skyr\n"
     ]
    }
   ],
   "source": [
    "foods = [\"pizza\", \"pasta\", \"rice\", \"chicken\", \"Skyr\"]\n",
    "\n",
    "for i,food in enumerate(foods, start=1):\n",
    "    if i > len(foods) - 3:\n",
    "        print(f\" {i}.{food}\")"
   ]
  },
  {
   "cell_type": "code",
   "execution_count": 13,
   "metadata": {},
   "outputs": [
    {
     "name": "stdout",
     "output_type": "stream",
     "text": [
      " 1.rice\n",
      " 2.chicken\n",
      " 3.Skyr\n"
     ]
    }
   ],
   "source": [
    "foods = [\"pizza\", \"pasta\", \"rice\", \"chicken\", \"Skyr\"]\n",
    "\n",
    "for i,food in enumerate(foods[-3:], start=1):\n",
    "    print(f\" {i}.{food}\")"
   ]
  },
  {
   "cell_type": "code",
   "execution_count": 20,
   "metadata": {},
   "outputs": [
    {
     "name": "stdout",
     "output_type": "stream",
     "text": [
      " 1.rice\n",
      " 2.chicken\n",
      " 3.Skyr\n"
     ]
    }
   ],
   "source": [
    "foods = [\"pizza\", \"pasta\", \"rice\", \"chicken\", \"Skyr\"]\n",
    "\n",
    "for i,j in enumerate(range(2, 5), start=1):\n",
    "    print(f\" {i}.{foods[j]}\")"
   ]
  },
  {
   "cell_type": "markdown",
   "metadata": {},
   "source": [
    "## Modify lists\n",
    "\n",
    "Unlike strings, lists can be modified later. "
   ]
  },
  {
   "cell_type": "markdown",
   "metadata": {},
   "source": [
    "### Add elements\n",
    "We can add new elements at any time. The `append(VALUE)` method inserts a new element at the end of the list: "
   ]
  },
  {
   "cell_type": "code",
   "execution_count": 21,
   "metadata": {},
   "outputs": [
    {
     "name": "stdout",
     "output_type": "stream",
     "text": [
      "['Charlie', 'Anna', 'Marko', 'Santa']\n",
      "['Charlie', 'Anna', 'Marko', 'Santa', 'Klara']\n"
     ]
    }
   ],
   "source": [
    "students = ['Charlie', 'Anna', 'Marko', 'Santa']\n",
    "print(students)\n",
    "students.append('Klara')\n",
    "print(students)\n"
   ]
  },
  {
   "cell_type": "markdown",
   "metadata": {},
   "source": [
    "If necessary, we can insert an element at any position. For this we use the `insert()` method of the `list` object. This method expects 2 parameters:\n",
    "\n",
    "1. the position where the value should be inserted into the list. This specification is 0-based. So position `0` means \"at the very beginning\", `1` means: after the first element.\n",
    "2. the value to be inserted"
   ]
  },
  {
   "cell_type": "code",
   "execution_count": 22,
   "metadata": {},
   "outputs": [
    {
     "data": {
      "text/plain": [
       "['Charlie', 'Anna', 'Marko', 'Teddy', 'Santa', 'Klara']"
      ]
     },
     "execution_count": 22,
     "metadata": {},
     "output_type": "execute_result"
    }
   ],
   "source": [
    "students.insert(-2, 'Teddy')\n",
    "students"
   ]
  },
  {
   "cell_type": "markdown",
   "metadata": {},
   "source": [
    "### Remove elements\n",
    "\n",
    "We can remove elements in the same way. The `pop()` method removes the last element of the list. `pop()` returns the value of the removed element."
   ]
  },
  {
   "cell_type": "code",
   "execution_count": 37,
   "metadata": {},
   "outputs": [
    {
     "data": {
      "text/plain": [
       "['Charlie', 'Claus']"
      ]
     },
     "execution_count": 37,
     "metadata": {},
     "output_type": "execute_result"
    }
   ],
   "source": [
    "last_student = students.pop()\n",
    "last_student\n",
    "students"
   ]
  },
  {
   "cell_type": "markdown",
   "metadata": {},
   "source": [
    "However, `pop()` can also optionally be called with an argument: A number corresponding to the index of the object to be removed:"
   ]
  },
  {
   "cell_type": "code",
   "execution_count": 24,
   "metadata": {},
   "outputs": [
    {
     "name": "stdout",
     "output_type": "stream",
     "text": [
      "Charlie\n"
     ]
    },
    {
     "data": {
      "text/plain": [
       "['Anna', 'Marko', 'Teddy', 'Santa']"
      ]
     },
     "execution_count": 24,
     "metadata": {},
     "output_type": "execute_result"
    }
   ],
   "source": [
    "first_student = students.pop(0) #  remove the first element\n",
    "print(first_student)\n",
    "students"
   ]
  },
  {
   "cell_type": "markdown",
   "metadata": {},
   "source": [
    "<div class=\"alert alert-block alert-info\">\n",
    "<b>Exercise 2</b>\n",
    "<p>Imagine you have just returned from dinner.\n",
    "<ol>\n",
    "<li>Add the dish you just ate to the end of the list created in <b>Exercise 1</b>.</li>\n",
    "<li>Remove the oldest meal to return the list to exactly 5 entries.</li>\n",
    "</ol>\n",
    "</p>\n",
    "</div>"
   ]
  },
  {
   "cell_type": "code",
   "execution_count": 25,
   "metadata": {},
   "outputs": [],
   "source": [
    "foods.append('bowl')"
   ]
  },
  {
   "cell_type": "code",
   "execution_count": 26,
   "metadata": {},
   "outputs": [
    {
     "data": {
      "text/plain": [
       "'pizza'"
      ]
     },
     "execution_count": 26,
     "metadata": {},
     "output_type": "execute_result"
    }
   ],
   "source": [
    "foods.pop(0)"
   ]
  },
  {
   "cell_type": "code",
   "execution_count": 27,
   "metadata": {},
   "outputs": [
    {
     "data": {
      "text/plain": [
       "['pasta', 'rice', 'chicken', 'Skyr', 'bowl']"
      ]
     },
     "execution_count": 27,
     "metadata": {},
     "output_type": "execute_result"
    }
   ],
   "source": [
    "foods"
   ]
  },
  {
   "cell_type": "markdown",
   "metadata": {},
   "source": [
    "What you have just written here in a very simple form is called a **queue** in computer science: If a new element is inserted at the end and the maximum length of the queue is exceeded, the first (i.e. oldest) element must be removed be removed from the queue.\n",
    "\n",
    "![A queue](img/queue.png)\n",
    "\n",
    "You probably know this principle from your family doctor: if the waiting room is full, you have to wait in the corridor until the next patient is called into the treatment room and a place in the waiting room becomes free.\n",
    "\n",
    "We'll take a closer look at using queues later in the semester."
   ]
  },
  {
   "cell_type": "markdown",
   "metadata": {},
   "source": [
    "### Replace items\n",
    "The value of a list element can be changed at any time via the index:"
   ]
  },
  {
   "cell_type": "code",
   "execution_count": 28,
   "metadata": {},
   "outputs": [
    {
     "name": "stdout",
     "output_type": "stream",
     "text": [
      "['Charlie', 'Anna', 'Marko', 'Santa']\n"
     ]
    }
   ],
   "source": [
    "students = ['Charlie', 'Anna', 'Marko', 'Santa']\n",
    "print(students)"
   ]
  },
  {
   "cell_type": "code",
   "execution_count": 29,
   "metadata": {},
   "outputs": [
    {
     "name": "stdout",
     "output_type": "stream",
     "text": [
      "['Charlie', 'Claus', 'Marko', 'Santa']\n"
     ]
    }
   ],
   "source": [
    "students[1] = 'Claus'\n",
    "print(students)"
   ]
  },
  {
   "cell_type": "markdown",
   "metadata": {},
   "source": [
    "So here we changed the value of the second element from 'Anna' to 'CLaus'. (Actually, we replaced the old String object with a new one, but that's not important just yet.)"
   ]
  },
  {
   "cell_type": "markdown",
   "metadata": {},
   "source": [
    "## Multidimensional lists\n",
    "We have seen that a list can contain values of any data type. Of course, this also includes lists. So we can create a list whose elements are in turn lists. We then have a list of lists.\n",
    "\n",
    "Let's imagine we measure the temperature three times a day and want to save these readings. On the first day we have these 3 measurements: `[17, 28, 24]`. On the second day we measure these values: `[18, 31, 28]`. So we have a list of 3 values for each day. We can save the individual days (i.e. lists) in a list again:"
   ]
  },
  {
   "cell_type": "code",
   "execution_count": 32,
   "metadata": {},
   "outputs": [],
   "source": [
    "temperatures = [\n",
    "    [17, 28, 24],\n",
    "    [18, 31, 28],\n",
    "    [20, 35, 29]\n",
    "]"
   ]
  },
  {
   "cell_type": "code",
   "execution_count": 35,
   "metadata": {},
   "outputs": [
    {
     "data": {
      "text/plain": [
       "20"
      ]
     },
     "execution_count": 35,
     "metadata": {},
     "output_type": "execute_result"
    }
   ],
   "source": [
    "temperatures[2][0]\n",
    "temperatures[2][0]"
   ]
  },
  {
   "cell_type": "code",
   "execution_count": null,
   "metadata": {},
   "outputs": [],
   "source": [
    "middle = temperatures[1]\n",
    "middle[1]"
   ]
  },
  {
   "cell_type": "code",
   "execution_count": null,
   "metadata": {},
   "outputs": [],
   "source": [
    "temperatures[2][0]"
   ]
  },
  {
   "cell_type": "markdown",
   "metadata": {},
   "source": [
    "We can imagine these temperatures as a table: Each line represents a day, each column a measurement time (e.g. 6:00, 12:00, 18:00). We have already learned how to access the readings of a specific day:"
   ]
  },
  {
   "cell_type": "code",
   "execution_count": null,
   "metadata": {},
   "outputs": [],
   "source": [
    "temperatures[1]"
   ]
  },
  {
   "cell_type": "markdown",
   "metadata": {},
   "source": [
    "Since the element addressed in this way is again a list, we can also access individual elements of this list. We can read out the first measured value of the second day like this:"
   ]
  },
  {
   "cell_type": "code",
   "execution_count": null,
   "metadata": {},
   "outputs": [],
   "source": [
    "day = temperatures[1] # temperatures of second day as list in variable 'day'\n",
    "temperature_at_6 = day[0] # first value of day\n",
    "temperature_at_6"
   ]
  },
  {
   "cell_type": "markdown",
   "metadata": {},
   "source": [
    "It is usually written more compactly like this:"
   ]
  },
  {
   "cell_type": "code",
   "execution_count": null,
   "metadata": {},
   "outputs": [],
   "source": [
    "temperatures[2][2]"
   ]
  },
  {
   "cell_type": "markdown",
   "metadata": {},
   "source": [
    "The value in the first pair of brackets also refers to the list `temperatures` (i.e. what we referred to as `day` above), the value in the second pair of brackets to the list that we get via the first index, i.e. to the first entry of the second entry in the `temperatures` list."
   ]
  },
  {
   "cell_type": "markdown",
   "metadata": {},
   "source": [
    "<div class=\"alert alert-block alert-info\">\n",
    "<b>Exercise 3</b>\n",
    "<p>\n",
    "To become familiar with this concept, let the following temperatures be displayed:\n",
    "<ol>\n",
    "<li>First day's midday temperature</li>\n",
    "<li>Morning temperature of the first day</li>\n",
    "<li>Morning temperature of the last day</li>\n",
    "<li>Evening temperature of the second day</li>\n",
    "</ol>\n",
    "</p>\n",
    "</div>"
   ]
  },
  {
   "cell_type": "code",
   "execution_count": null,
   "metadata": {},
   "outputs": [],
   "source": []
  },
  {
   "cell_type": "code",
   "execution_count": null,
   "metadata": {},
   "outputs": [],
   "source": []
  },
  {
   "cell_type": "markdown",
   "metadata": {},
   "source": [
    "## Calculate with list values\n",
    "For lists containing numeric values (int, float), Python provides functions that can be applied to all values in a list:\n",
    "\n",
    "  * `max(list)` determines the largest value occurring in the list.\n",
    "  * `min(list)` returns the smallest value in the list\n",
    "  * `sum(list)` determines the sum of all values of the list"
   ]
  },
  {
   "cell_type": "markdown",
   "metadata": {},
   "source": [
    "## Read lines of a file into a list\n",
    "Let's return to our file of first names that we learned about in the [Notebook on Handling Files](06_files.ipynb). We learned there that the `readlines()` method returns the contents of a file as a list of lines:"
   ]
  },
  {
   "cell_type": "code",
   "execution_count": 38,
   "metadata": {},
   "outputs": [
    {
     "name": "stdout",
     "output_type": "stream",
     "text": [
      "['Astrid\\n', 'Ines\\n', 'Christoph\\n', 'Markus\\n', 'Çınar\\n', 'Đželila\\n', 'Niklas\\n', 'Anna\\n', 'Stefanie\\n', 'Raphael\\n', 'Anna-Lena\\n', 'Silvia\\n', 'Julian\\n', 'Simon\\n', 'Katharina\\n', 'Michael\\n', 'Dominik\\n', 'Maria\\n', 'Kevin\\n', 'Bianca\\n', 'Thomas\\n', 'Nora\\n', 'Manuel\\n', 'Selina\\n', 'Gabriel\\n', 'Daniel\\n', 'Thomas\\n', 'Nina\\n', 'Michael\\n', 'Fabio\\n', 'Theresa\\n', 'Manuel\\n', 'Carina\\n', 'Philipp\\n', 'Lukas\\n', 'Wolfgang\\n', 'Anna\\n', 'Doris\\n', 'Thomas\\n', 'Muhammed\\n', 'Christoph\\n', 'Lisa-Marie\\n', 'Jessica\\n', 'Maria\\n', 'Thomas\\n', 'Florian\\n', 'Martin\\n', 'Anna\\n', 'Oliver\\n', 'Gregor\\n', 'Helmut\\n', 'Florian\\n', 'Matteo\\n', 'David\\n', 'Marlene\\n', 'Vanessa\\n', 'Lea\\n', 'Jan\\n', 'Béla\\n', 'Verena\\n', 'Manuel\\n', 'Björn\\n', 'Tobias\\n', 'Denise\\n', 'Emma\\n', 'Lukas\\n', 'Sarah\\n', 'Oliver\\n', 'Janine\\n', 'Manuel\\n', 'Georg\\n', 'Lorenz\\n', 'Verena\\n', 'Caroline\\n', 'Laura\\n', 'Felix\\n', 'Simon\\n', 'Lea\\n', 'Peter\\n', 'Sandra\\n', 'Julia\\n', 'Sophie\\n', 'Jacqueline\\n', 'Nina\\n', 'Sebastian\\n', 'David\\n', 'Matthias\\n', 'Patrick\\n', 'Selina\\n', 'Fabian\\n', 'Daniel\\n', 'Sabine\\n', 'Josef\\n', 'Lisa\\n', 'Carina\\n', 'Florian\\n', 'Fabian\\n', 'Viktoria\\n', 'Christoph\\n', 'Emilia\\n']\n"
     ]
    }
   ],
   "source": [
    "with open('data/names/names_short.txt', encoding='utf-8') as fh:\n",
    "    lines = fh.readlines()\n",
    "print(lines)"
   ]
  },
  {
   "cell_type": "markdown",
   "metadata": {},
   "source": [
    "So our list `lines` now contains line by line the content of the file `names_short.txt`. However, with one flaw: Since each line is terminated by a newline character, this is also contained in each entry of the list (`\\n`). The following digression describes how we can get rid of these line breaks."
   ]
  },
  {
   "cell_type": "markdown",
   "metadata": {},
   "source": [
    "## Digression: The string methods rstrip(), lstrip(), and strip().\n",
    "As we can see, each list element contains the line feed character `\\n` at the end. We could remove this with slicing, for example, but the string type provides a method `.rstrip()` that does exactly what we need:"
   ]
  },
  {
   "cell_type": "code",
   "execution_count": null,
   "metadata": {},
   "outputs": [],
   "source": [
    "s = 'abc\\n'\n",
    "s.rstrip()"
   ]
  },
  {
   "cell_type": "markdown",
   "metadata": {},
   "source": [
    "`rstrip()` removes all whitespace (spaces, tabs, line breaks, etc.) at the end of a string and returns the modified string. \n",
    "\n",
    "Additionally there is `lstrip()` which removes whitespace at the beginning of a string and `strip()` which removes whitespace left and right."
   ]
  },
  {
   "cell_type": "code",
   "execution_count": 40,
   "metadata": {},
   "outputs": [
    {
     "name": "stdout",
     "output_type": "stream",
     "text": [
      "s: \"   abc   \"\n",
      "s.rstrip(): \"   abc\"\n",
      "s.rstrip(): \"   abc\"\n",
      "s.lstrip(): \"abc   \"\n",
      "s.strip(): \"abc\"\n"
     ]
    }
   ],
   "source": [
    "s = '   abc   '\n",
    "print('s: \"{}\"'.format(s))\n",
    "print('s.rstrip(): \"{}\"'.format(s.rstrip()))\n",
    "print(f's.rstrip(): \"{s.rstrip()}\"')\n",
    "\n",
    "print('s.lstrip(): \"{}\"'.format(s.lstrip()))\n",
    "print('s.strip(): \"{}\"'.format(s.strip()))"
   ]
  },
  {
   "cell_type": "markdown",
   "metadata": {},
   "source": [
    "## Remove line breaks in a list of strings \n",
    "### Method 1: in a loop\n",
    "Now, if we want to remove all line breaks from our list of `lines`, we can do it in a `for` loop:"
   ]
  },
  {
   "cell_type": "code",
   "execution_count": 42,
   "metadata": {},
   "outputs": [
    {
     "name": "stdout",
     "output_type": "stream",
     "text": [
      "['Astrid', 'Ines', 'Christoph', 'Markus', 'Çınar', 'Đželila', 'Niklas', 'Anna', 'Stefanie', 'Raphael', 'Anna-Lena', 'Silvia', 'Julian', 'Simon', 'Katharina', 'Michael', 'Dominik', 'Maria', 'Kevin', 'Bianca', 'Thomas', 'Nora', 'Manuel', 'Selina', 'Gabriel', 'Daniel', 'Thomas', 'Nina', 'Michael', 'Fabio', 'Theresa', 'Manuel', 'Carina', 'Philipp', 'Lukas', 'Wolfgang', 'Anna', 'Doris', 'Thomas', 'Muhammed', 'Christoph', 'Lisa-Marie', 'Jessica', 'Maria', 'Thomas', 'Florian', 'Martin', 'Anna', 'Oliver', 'Gregor', 'Helmut', 'Florian', 'Matteo', 'David', 'Marlene', 'Vanessa', 'Lea', 'Jan', 'Béla', 'Verena', 'Manuel', 'Björn', 'Tobias', 'Denise', 'Emma', 'Lukas', 'Sarah', 'Oliver', 'Janine', 'Manuel', 'Georg', 'Lorenz', 'Verena', 'Caroline', 'Laura', 'Felix', 'Simon', 'Lea', 'Peter', 'Sandra', 'Julia', 'Sophie', 'Jacqueline', 'Nina', 'Sebastian', 'David', 'Matthias', 'Patrick', 'Selina', 'Fabian', 'Daniel', 'Sabine', 'Josef', 'Lisa', 'Carina', 'Florian', 'Fabian', 'Viktoria', 'Christoph', 'Emilia']\n"
     ]
    }
   ],
   "source": [
    "clean_names = [] # here we will store all names without \\n\n",
    "for line in lines:\n",
    "    clean_names.append(line.rstrip())\n",
    "print(clean_names)"
   ]
  },
  {
   "cell_type": "markdown",
   "metadata": {},
   "source": [
    "As a reminder, we can use `list.append(VALUE)` to add a value to a list. This value is appended to the end of the list:"
   ]
  },
  {
   "cell_type": "code",
   "execution_count": null,
   "metadata": {},
   "outputs": [],
   "source": [
    "students = ['Anna', 'Hans', 'Claus']\n",
    "students.append('Dora')\n",
    "students"
   ]
  },
  {
   "cell_type": "markdown",
   "metadata": {},
   "source": [
    "## Method 2: with a List Comprehension\n",
    "*List Comprehensions* are an approach coming from the field of functional programming to apply an action to all elements of a list.\n",
    "\n",
    "The syntax of a List Comprehension is this:\n",
    "\n",
    "```\n",
    "[<do something with element> for <element> in <iterable>]\n",
    "```"
   ]
  },
  {
   "cell_type": "code",
   "execution_count": null,
   "metadata": {},
   "outputs": [],
   "source": [
    "clean_names = [line.rstrip() for line in lines]\n",
    "print(clean_names)"
   ]
  },
  {
   "cell_type": "markdown",
   "metadata": {},
   "source": [
    "List Comprehensions have become a very popular alternative for simple loops in recent years. I strongly recommend to get familiar with them because \n",
    "\n",
    "1. they are more compact than normal loops\n",
    "2. they often appear in foreign code and therefore you should read and understand them"
   ]
  },
  {
   "cell_type": "markdown",
   "metadata": {},
   "source": [
    "<div class=\"alert alert-block alert-info\">\n",
    "<b>Exercise 5</b>\n",
    "<p>\n",
    "Write a list comprehension that multiplies each value of the <tt>nums</tt> list by itself.\n",
    "So the result should look like this:\n",
    "<pre>\n",
    "[16, 81, 289, 25, 9801]\n",
    "</pre>\n",
    "</p>\n",
    "</div>"
   ]
  },
  {
   "cell_type": "markdown",
   "metadata": {},
   "source": [
    "<div class=\"alert alert-block alert-info\">\n",
    "<b>Exercise Files</b><p>\n",
    "Write a program that does the following:\n",
    "<ol>\n",
    "<li>Read in the contents of the file \"data/names/names_short.txt\".</li>\n",
    "<li>Write the content of the read file into a new file \"mynames.txt\"</li>\n",
    "<li>Ask (with input()) the user for his/her first name and store it in a variable </li>\n",
    "<li>Append the requested name to the end of the \"mynames.txt\" file</li>\n",
    "<li> Enable appending mutiple times over</li>\n",
    "</ol>\n",
    "</div>"
   ]
  },
  {
   "cell_type": "markdown",
   "metadata": {},
   "source": [
    "\n",
    "\n"
   ]
  },
  {
   "cell_type": "markdown",
   "metadata": {},
   "source": [
    "# Literature that I recommend\n",
    "\n",
    "* https://www.w3schools.com/python/python_lists.asp\n",
    "* https://docs.python.org/3/tutorial/datastructures.html\n",
    "* https://towardsdatascience.com/python-basics-6-lists-and-list-manipulation-a56be62b1f95\n",
    "* https://www.geeksforgeeks.org/python-lists/\n",
    "* https://www.tutorialspoint.com/python/python_lists.htm"
   ]
  },
  {
   "cell_type": "code",
   "execution_count": null,
   "metadata": {},
   "outputs": [],
   "source": []
  }
 ],
 "metadata": {
  "kernelspec": {
   "display_name": "Python 3 (ipykernel)",
   "language": "python",
   "name": "python3"
  },
  "language_info": {
   "codemirror_mode": {
    "name": "ipython",
    "version": 3
   },
   "file_extension": ".py",
   "mimetype": "text/x-python",
   "name": "python",
   "nbconvert_exporter": "python",
   "pygments_lexer": "ipython3",
   "version": "3.9.13"
  }
 },
 "nbformat": 4,
 "nbformat_minor": 4
}
