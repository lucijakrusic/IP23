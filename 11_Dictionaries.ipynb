{
 "cells": [
  {
   "cell_type": "markdown",
   "id": "00e834de",
   "metadata": {},
   "source": [
    "# Dictionaries\n",
    "\n",
    "Dictionaries, which in other programming languages are also called *Maps*, *Hashtables* or *Associative Arrays*, are one of the most important data types in Python. In a dictionary\n",
    "each value is referenced by a key. So, each entry consists of a key and its associated value.\n",
    "\n",
    "<img src=\"img/dict.svg\" alt=\"Dictionary\" style=\"height: 120px\">\n",
    "\n",
    "A dictionary is a powerful and flexible tool for caching and retrieving data very quickly.\n",
    "and find it again very quickly.\n",
    "\n",
    "Dictionaries can be extended and shortened at any time. As with lists, the\n",
    "values stored in a dictionary can be overwritten. Thus, dictionaries belong to the mutable data types.\n",
    "\n",
    "With Python 3.6 the type dictionary was newly implemented, whereby (at least internally) the\n",
    "internally) the order of the elements in a dictionary remains stable. This is not guaranteed for older versions.\n"
   ]
  },
  {
   "cell_type": "markdown",
   "id": "9f916860",
   "metadata": {},
   "source": [
    "## Intro"
   ]
  },
  {
   "cell_type": "markdown",
   "id": "05ebd13c",
   "metadata": {},
   "source": [
    "### Creating and filling up a dictionary\n",
    "\n",
    "An empty dictionary is created like this:"
   ]
  },
  {
   "cell_type": "code",
   "execution_count": 2,
   "id": "8aefd198",
   "metadata": {},
   "outputs": [],
   "source": [
    "phone_numbers = {}"
   ]
  },
  {
   "cell_type": "markdown",
   "id": "a4a20245",
   "metadata": {},
   "source": [
    "so, <b>values</b> and <b>keys</b> can be added afterwards"
   ]
  },
  {
   "cell_type": "code",
   "execution_count": 3,
   "id": "937d0208",
   "metadata": {},
   "outputs": [
    {
     "data": {
      "text/plain": [
       "{'Santa': '0316 123456', 'Maus': '0664 345678', 'Willy': '0660 987654'}"
      ]
     },
     "execution_count": 3,
     "metadata": {},
     "output_type": "execute_result"
    }
   ],
   "source": [
    "phone_numbers['Santa'] = '0316 123456'\n",
    "phone_numbers['Maus'] = '0664 345678'\n",
    "phone_numbers['Willy'] = '0660 987654'\n",
    "\n",
    "phone_numbers"
   ]
  },
  {
   "cell_type": "markdown",
   "id": "ddcc3876",
   "metadata": {},
   "source": [
    "You can also create the key-value pairs directly when creating the dictionary:"
   ]
  },
  {
   "cell_type": "code",
   "execution_count": 4,
   "id": "f606a360",
   "metadata": {},
   "outputs": [
    {
     "data": {
      "text/plain": [
       "{'Santa': '0316 123456', 'Maus': '0664 345678', 'Willy': '0660 987654'}"
      ]
     },
     "execution_count": 4,
     "metadata": {},
     "output_type": "execute_result"
    }
   ],
   "source": [
    "phone_numbers = {\n",
    "    'Santa': '0316 123456',\n",
    "    'Maus': '0664 345678',\n",
    "    'Willy': '0660 987654'\n",
    "}\n",
    "phone_numbers"
   ]
  },
  {
   "cell_type": "markdown",
   "id": "afc3beb1",
   "metadata": {},
   "source": [
    "<div class=\"alert alert-block alert-info\">\n",
    "<b>Exercise Dict-1</b>\n",
    "<p>\n",
    "Create a dictionary containing 5 English words and their definitions (Google).\n",
    "</p>"
   ]
  },
  {
   "cell_type": "code",
   "execution_count": 5,
   "id": "f1a02667",
   "metadata": {},
   "outputs": [],
   "source": [
    "eng_dict = {\n",
    "    \n",
    "    'sun': 'a warm planet',\n",
    "    'phone': ' a necessary evil',\n",
    "    'projector': 'tool for students to see',\n",
    "    'laptop': 'small computer',\n",
    "    'ice': 'crystal water'\n",
    "    \n",
    "}"
   ]
  },
  {
   "cell_type": "code",
   "execution_count": 6,
   "id": "bda9f98b",
   "metadata": {},
   "outputs": [
    {
     "data": {
      "text/plain": [
       "{'sun': 'a warm planet',\n",
       " 'phone': ' a necessary evil',\n",
       " 'projector': 'tool for students to see',\n",
       " 'laptop': 'small computer',\n",
       " 'ice': 'crystal water'}"
      ]
     },
     "execution_count": 6,
     "metadata": {},
     "output_type": "execute_result"
    }
   ],
   "source": [
    "eng_dict"
   ]
  },
  {
   "cell_type": "markdown",
   "id": "debf7d4c",
   "metadata": {},
   "source": [
    "### Keys - duplicates not allowed"
   ]
  },
  {
   "cell_type": "markdown",
   "id": "66c3e7e3",
   "metadata": {},
   "source": [
    "A key can only be used once in a dictionary. If it is used a second time, the original value is overwritten."
   ]
  },
  {
   "cell_type": "code",
   "execution_count": 7,
   "id": "c09e4e6f",
   "metadata": {},
   "outputs": [
    {
     "name": "stdout",
     "output_type": "stream",
     "text": [
      "0316 123456\n"
     ]
    },
    {
     "data": {
      "text/plain": [
       "{'Santa': 'new number', 'Maus': '0664 345678', 'Willy': '0660 987654'}"
      ]
     },
     "execution_count": 7,
     "metadata": {},
     "output_type": "execute_result"
    }
   ],
   "source": [
    "print(phone_numbers['Santa'])\n",
    "phone_numbers['Santa'] = 'new number'\n",
    "phone_numbers"
   ]
  },
  {
   "cell_type": "markdown",
   "id": "2a2a1f2e",
   "metadata": {},
   "source": [
    "Strings are mostly used as key. However, dictionaries allow any immutable data type as a key. You can also use integers, floats or tuples as keys, for example. However, changeable data types such as lists, sets or dictionaries are not permitted as keys."
   ]
  },
  {
   "cell_type": "code",
   "execution_count": 8,
   "id": "094315b2",
   "metadata": {},
   "outputs": [
    {
     "name": "stdout",
     "output_type": "stream",
     "text": [
      "{42: 'Solution', 3.14: 'Pi'}\n"
     ]
    }
   ],
   "source": [
    "my_dict = {}\n",
    "\n",
    "my_dict[42] = 'Solution'\n",
    "my_dict[3.14] = 'Pi'\n",
    "print(my_dict)"
   ]
  },
  {
   "cell_type": "markdown",
   "id": "0c3c2065",
   "metadata": {},
   "source": [
    "Here is an invalid data type as a key:"
   ]
  },
  {
   "cell_type": "code",
   "execution_count": 9,
   "id": "b733325e",
   "metadata": {},
   "outputs": [
    {
     "ename": "TypeError",
     "evalue": "unhashable type: 'list'",
     "output_type": "error",
     "traceback": [
      "\u001b[1;31m---------------------------------------------------------------------------\u001b[0m",
      "\u001b[1;31mTypeError\u001b[0m                                 Traceback (most recent call last)",
      "\u001b[1;32m~\\AppData\\Local\\Temp\\ipykernel_19980\\1919768706.py\u001b[0m in \u001b[0;36m<module>\u001b[1;34m\u001b[0m\n\u001b[1;32m----> 1\u001b[1;33m \u001b[0mmy_dict\u001b[0m\u001b[1;33m[\u001b[0m\u001b[1;33m[\u001b[0m\u001b[1;34m'a'\u001b[0m\u001b[1;33m,\u001b[0m \u001b[1;34m'b'\u001b[0m\u001b[1;33m,\u001b[0m \u001b[1;34m'c'\u001b[0m\u001b[1;33m]\u001b[0m\u001b[1;33m]\u001b[0m \u001b[1;33m=\u001b[0m \u001b[1;34m'abc'\u001b[0m\u001b[1;33m\u001b[0m\u001b[1;33m\u001b[0m\u001b[0m\n\u001b[0m",
      "\u001b[1;31mTypeError\u001b[0m: unhashable type: 'list'"
     ]
    }
   ],
   "source": [
    "my_dict[['a', 'b', 'c']] = 'abc'"
   ]
  },
  {
   "cell_type": "markdown",
   "id": "8b2ce9a3",
   "metadata": {},
   "source": [
    "<div class=\"alert alert-block alert-info\">\n",
    "<b>Exercise Dict-2</b>\n",
    "<p>\n",
    "Replace a value from the dictionary from exercise Dict-1 with \n",
    "    another definition!\n",
    "</p>\n",
    "</div>"
   ]
  },
  {
   "cell_type": "code",
   "execution_count": 10,
   "id": "af1f10f5",
   "metadata": {},
   "outputs": [
    {
     "data": {
      "text/plain": [
       "{'sun': 'moon',\n",
       " 'phone': ' a necessary evil',\n",
       " 'projector': 'tool for students to see',\n",
       " 'laptop': 'small computer',\n",
       " 'ice': 'crystal water'}"
      ]
     },
     "execution_count": 10,
     "metadata": {},
     "output_type": "execute_result"
    }
   ],
   "source": [
    "eng_dict[\"sun\"] = \"moon\"\n",
    "eng_dict"
   ]
  },
  {
   "cell_type": "markdown",
   "id": "f127291a",
   "metadata": {},
   "source": [
    "## Get the number of elements\n",
    "\n",
    "The `len()` method, which we have already seen for some other data types, also works for dictionaries. It determines the number of key-value pairs in the dict."
   ]
  },
  {
   "cell_type": "code",
   "execution_count": 11,
   "id": "3bfb8bf4",
   "metadata": {},
   "outputs": [
    {
     "data": {
      "text/plain": [
       "3"
      ]
     },
     "execution_count": 11,
     "metadata": {},
     "output_type": "execute_result"
    }
   ],
   "source": [
    "phone_numbers = {\n",
    "    'Santa': '0316 123456',\n",
    "    'Maus': '0664 345678',\n",
    "    'Willy': '0660 987654'\n",
    "}\n",
    "len(phone_numbers)"
   ]
  },
  {
   "cell_type": "markdown",
   "id": "5c10443f",
   "metadata": {},
   "source": [
    "## Iterate over a dictionary with a for loop"
   ]
  },
  {
   "cell_type": "markdown",
   "id": "7993efb2",
   "metadata": {},
   "source": [
    "The well-known `for ... in` loop also works with dictionaries."
   ]
  },
  {
   "cell_type": "code",
   "execution_count": 12,
   "id": "280f3b8d",
   "metadata": {},
   "outputs": [
    {
     "name": "stdout",
     "output_type": "stream",
     "text": [
      "Santa\n",
      "Maus\n",
      "Willy\n"
     ]
    }
   ],
   "source": [
    "for key in phone_numbers:\n",
    "    print(key)"
   ]
  },
  {
   "cell_type": "markdown",
   "id": "b9bcd707",
   "metadata": {},
   "source": [
    "As we can see, `for ... in` returns one key after the other. We can read out the corresponding value in a known way:"
   ]
  },
  {
   "cell_type": "code",
   "execution_count": 13,
   "id": "76e935d7",
   "metadata": {},
   "outputs": [
    {
     "name": "stdout",
     "output_type": "stream",
     "text": [
      "Santa -> 0316 123456\n",
      "Maus -> 0664 345678\n",
      "Willy -> 0660 987654\n"
     ]
    }
   ],
   "source": [
    "for key in phone_numbers:\n",
    "    print(f\"{key} -> {phone_numbers[key]}\")"
   ]
  },
  {
   "cell_type": "markdown",
   "id": "fb12f42b",
   "metadata": {},
   "source": [
    "### The items() method\n",
    "Alternatively, we can use the `items()` method, which returns each key and value as a tuple:"
   ]
  },
  {
   "cell_type": "code",
   "execution_count": 14,
   "id": "6ec678b8",
   "metadata": {},
   "outputs": [
    {
     "name": "stdout",
     "output_type": "stream",
     "text": [
      "Santa -> 0316 123456\n",
      "Maus -> 0664 345678\n",
      "Willy -> 0660 987654\n"
     ]
    }
   ],
   "source": [
    "for key, value in phone_numbers.items():\n",
    "    print('{} -> {}'.format(key, value))"
   ]
  },
  {
   "cell_type": "markdown",
   "id": "bff5cecd",
   "metadata": {},
   "source": [
    "### The values() method\n",
    "\n",
    "If we are not interested in the keys, we can only iterate over the values in a loop:"
   ]
  },
  {
   "cell_type": "code",
   "execution_count": 15,
   "id": "2dcc657d",
   "metadata": {},
   "outputs": [
    {
     "name": "stdout",
     "output_type": "stream",
     "text": [
      "0316 123456\n",
      "0664 345678\n",
      "0660 987654\n"
     ]
    }
   ],
   "source": [
    "for value in phone_numbers.values():\n",
    "    print(value)"
   ]
  },
  {
   "cell_type": "markdown",
   "id": "146e96f8",
   "metadata": {},
   "source": [
    "<div class=\"alert alert-block alert-info\">\n",
    "<b>Exercise Dict-3</b>\n",
    "<p>\n",
    "Iterate through the dictionary from Exercise Dict-1. For each entry in your dictionary, output a line that (example) should look like this:\n",
    "<pre>\n",
    "'dictionary' is a 'a book or electronic resource that lists the words of a language (typically in alphabetical order) and gives their meaning.'\n",
    "</pre>\n",
    "</p>\n",
    "</div>"
   ]
  },
  {
   "cell_type": "code",
   "execution_count": 16,
   "id": "d81b333e",
   "metadata": {},
   "outputs": [
    {
     "name": "stdout",
     "output_type": "stream",
     "text": [
      "sun is a moon\n",
      "phone is a  a necessary evil\n",
      "projector is a tool for students to see\n",
      "laptop is a small computer\n",
      "ice is a crystal water\n"
     ]
    }
   ],
   "source": [
    "for key,value in eng_dict.items():\n",
    "    print(f\"{key} is a {value}\")"
   ]
  },
  {
   "cell_type": "markdown",
   "id": "2fbbe606",
   "metadata": {},
   "source": [
    "## A dictionary as counter\n",
    "We can use a dictionary to count the names in the names file. Let's read the names back from the file first:"
   ]
  },
  {
   "cell_type": "code",
   "execution_count": 17,
   "id": "f9b07347",
   "metadata": {},
   "outputs": [],
   "source": [
    "with open('data/names/names_short.txt', encoding='utf-8') as fh:\n",
    "    clean_names = [line.rstrip() for line in fh.readlines()]"
   ]
  },
  {
   "cell_type": "code",
   "execution_count": 18,
   "id": "20745830",
   "metadata": {},
   "outputs": [
    {
     "data": {
      "text/plain": [
       "['Astrid',\n",
       " 'Ines',\n",
       " 'Christoph',\n",
       " 'Markus',\n",
       " 'Çınar',\n",
       " 'Đželila',\n",
       " 'Niklas',\n",
       " 'Anna',\n",
       " 'Stefanie',\n",
       " 'Raphael',\n",
       " 'Anna-Lena',\n",
       " 'Silvia',\n",
       " 'Julian',\n",
       " 'Simon',\n",
       " 'Katharina',\n",
       " 'Michael',\n",
       " 'Dominik',\n",
       " 'Maria',\n",
       " 'Kevin',\n",
       " 'Bianca',\n",
       " 'Thomas',\n",
       " 'Nora',\n",
       " 'Manuel',\n",
       " 'Selina',\n",
       " 'Gabriel',\n",
       " 'Daniel',\n",
       " 'Thomas',\n",
       " 'Nina',\n",
       " 'Michael',\n",
       " 'Fabio',\n",
       " 'Theresa',\n",
       " 'Manuel',\n",
       " 'Carina',\n",
       " 'Philipp',\n",
       " 'Lukas',\n",
       " 'Wolfgang',\n",
       " 'Anna',\n",
       " 'Doris',\n",
       " 'Thomas',\n",
       " 'Muhammed',\n",
       " 'Christoph',\n",
       " 'Lisa-Marie',\n",
       " 'Jessica',\n",
       " 'Maria',\n",
       " 'Thomas',\n",
       " 'Florian',\n",
       " 'Martin',\n",
       " 'Anna',\n",
       " 'Oliver',\n",
       " 'Gregor',\n",
       " 'Helmut',\n",
       " 'Florian',\n",
       " 'Matteo',\n",
       " 'David',\n",
       " 'Marlene',\n",
       " 'Vanessa',\n",
       " 'Lea',\n",
       " 'Jan',\n",
       " 'Béla',\n",
       " 'Verena',\n",
       " 'Manuel',\n",
       " 'Björn',\n",
       " 'Tobias',\n",
       " 'Denise',\n",
       " 'Emma',\n",
       " 'Lukas',\n",
       " 'Sarah',\n",
       " 'Oliver',\n",
       " 'Janine',\n",
       " 'Manuel',\n",
       " 'Georg',\n",
       " 'Lorenz',\n",
       " 'Verena',\n",
       " 'Caroline',\n",
       " 'Laura',\n",
       " 'Felix',\n",
       " 'Simon',\n",
       " 'Lea',\n",
       " 'Peter',\n",
       " 'Sandra',\n",
       " 'Julia',\n",
       " 'Sophie',\n",
       " 'Jacqueline',\n",
       " 'Nina',\n",
       " 'Sebastian',\n",
       " 'David',\n",
       " 'Matthias',\n",
       " 'Patrick',\n",
       " 'Selina',\n",
       " 'Fabian',\n",
       " 'Daniel',\n",
       " 'Sabine',\n",
       " 'Josef',\n",
       " 'Lisa',\n",
       " 'Carina',\n",
       " 'Florian',\n",
       " 'Fabian',\n",
       " 'Viktoria',\n",
       " 'Christoph',\n",
       " 'Emilia']"
      ]
     },
     "execution_count": 18,
     "metadata": {},
     "output_type": "execute_result"
    }
   ],
   "source": [
    "clean_names"
   ]
  },
  {
   "cell_type": "markdown",
   "id": "b898103f",
   "metadata": {},
   "source": [
    "The `clean_names` list now contains all names read from the file. In the next step\n",
    "we create an empty dictionary. Then we iterate through the list of first names. We use the dictionary to count for each key (i.e. for each first name) how many times it appears (i.e. key is the first name, value is a number representing the number of occurrences of the name):"
   ]
  },
  {
   "cell_type": "code",
   "execution_count": 19,
   "id": "7205c40a",
   "metadata": {},
   "outputs": [
    {
     "name": "stdout",
     "output_type": "stream",
     "text": [
      "{'Astrid': 1, 'Ines': 1, 'Christoph': 3, 'Markus': 1, 'Çınar': 1, 'Đželila': 1, 'Niklas': 1, 'Anna': 3, 'Stefanie': 1, 'Raphael': 1, 'Anna-Lena': 1, 'Silvia': 1, 'Julian': 1, 'Simon': 2, 'Katharina': 1, 'Michael': 2, 'Dominik': 1, 'Maria': 2, 'Kevin': 1, 'Bianca': 1, 'Thomas': 4, 'Nora': 1, 'Manuel': 4, 'Selina': 2, 'Gabriel': 1, 'Daniel': 2, 'Nina': 2, 'Fabio': 1, 'Theresa': 1, 'Carina': 2, 'Philipp': 1, 'Lukas': 2, 'Wolfgang': 1, 'Doris': 1, 'Muhammed': 1, 'Lisa-Marie': 1, 'Jessica': 1, 'Florian': 3, 'Martin': 1, 'Oliver': 2, 'Gregor': 1, 'Helmut': 1, 'Matteo': 1, 'David': 2, 'Marlene': 1, 'Vanessa': 1, 'Lea': 2, 'Jan': 1, 'Béla': 1, 'Verena': 2, 'Björn': 1, 'Tobias': 1, 'Denise': 1, 'Emma': 1, 'Sarah': 1, 'Janine': 1, 'Georg': 1, 'Lorenz': 1, 'Caroline': 1, 'Laura': 1, 'Felix': 1, 'Peter': 1, 'Sandra': 1, 'Julia': 1, 'Sophie': 1, 'Jacqueline': 1, 'Sebastian': 1, 'Matthias': 1, 'Patrick': 1, 'Fabian': 2, 'Sabine': 1, 'Josef': 1, 'Lisa': 1, 'Viktoria': 1, 'Emilia': 1}\n"
     ]
    }
   ],
   "source": [
    "name_counter = {}\n",
    "for name in clean_names:\n",
    "    if name in name_counter:  # we saw the name before\n",
    "        name_counter[name] += 1\n",
    "    else:  # new name: create counter with 1\n",
    "        name_counter[name] = 1\n",
    "print(name_counter)        "
   ]
  },
  {
   "cell_type": "markdown",
   "id": "c579d707",
   "metadata": {},
   "source": [
    "If we are only interested in names that appear at least twice, we can solve it like this:"
   ]
  },
  {
   "cell_type": "code",
   "execution_count": 20,
   "id": "07e5151c",
   "metadata": {},
   "outputs": [
    {
     "name": "stdout",
     "output_type": "stream",
     "text": [
      "Christoph appears 3 times\n",
      "Anna appears 3 times\n",
      "Simon appears 2 times\n",
      "Michael appears 2 times\n",
      "Maria appears 2 times\n",
      "Thomas appears 4 times\n",
      "Manuel appears 4 times\n",
      "Selina appears 2 times\n",
      "Daniel appears 2 times\n",
      "Nina appears 2 times\n",
      "Carina appears 2 times\n",
      "Lukas appears 2 times\n",
      "Florian appears 3 times\n",
      "Oliver appears 2 times\n",
      "David appears 2 times\n",
      "Lea appears 2 times\n",
      "Verena appears 2 times\n",
      "Fabian appears 2 times\n"
     ]
    }
   ],
   "source": [
    "for name in name_counter:\n",
    "    if name_counter[name] > 1:\n",
    "        print(f'{name} appears {name_counter[name]} times')"
   ]
  },
  {
   "cell_type": "markdown",
   "id": "b37e2f11",
   "metadata": {},
   "source": [
    "## Nested dictionaries\n",
    "\n",
    "Just as an element of a list can again be a list, in a dictionary the value assigned to a key can again be a dictionary:"
   ]
  },
  {
   "cell_type": "code",
   "execution_count": 23,
   "id": "ad2de492",
   "metadata": {},
   "outputs": [],
   "source": [
    "colors = {\n",
    "  'red': { \n",
    "      'de': 'rot ' , \n",
    "      'fr': 'rouge ' , \n",
    "      'it': 'rosso '\n",
    "  } ,\n",
    "  'blue': { \n",
    "    'de': 'blau',\n",
    "      'it': 'blu', \n",
    "      'fr': 'bleu' ,\n",
    "  } ,\n",
    "  'yellow': { \n",
    "      'de': 'gelb' , \n",
    "      'fr': 'jaune' , \n",
    "      'it': 'giallo'\n",
    "  }\n",
    "}"
   ]
  },
  {
   "cell_type": "markdown",
   "id": "a2d1e679",
   "metadata": {},
   "source": [
    "As already known from the lists, we can (with difficulty) access a single translation like this:"
   ]
  },
  {
   "cell_type": "code",
   "execution_count": 24,
   "id": "f32bf5c4",
   "metadata": {},
   "outputs": [
    {
     "data": {
      "text/plain": [
       "'bleu'"
      ]
     },
     "execution_count": 24,
     "metadata": {},
     "output_type": "execute_result"
    }
   ],
   "source": [
    "blue_translations = colors['blue']\n",
    "blue_translations['fr']"
   ]
  },
  {
   "cell_type": "markdown",
   "id": "668e7c04",
   "metadata": {},
   "source": [
    "Normally, however, the much more compact notation is used:"
   ]
  },
  {
   "cell_type": "code",
   "execution_count": 25,
   "id": "f898dcac",
   "metadata": {},
   "outputs": [
    {
     "data": {
      "text/plain": [
       "'bleu'"
      ]
     },
     "execution_count": 25,
     "metadata": {},
     "output_type": "execute_result"
    }
   ],
   "source": [
    "colors['blue']['fr']\n"
   ]
  },
  {
   "cell_type": "markdown",
   "id": "ecdccfd0",
   "metadata": {},
   "source": [
    "# Literature\n",
    "* https://www.w3schools.com/python/python_dictionaries.asp\n",
    "* https://realpython.com/python-dicts/\n",
    "* https://www.tutorialspoint.com/python/python_dictionary.htm "
   ]
  }
 ],
 "metadata": {
  "kernelspec": {
   "display_name": "Python 3 (ipykernel)",
   "language": "python",
   "name": "python3"
  },
  "language_info": {
   "codemirror_mode": {
    "name": "ipython",
    "version": 3
   },
   "file_extension": ".py",
   "mimetype": "text/x-python",
   "name": "python",
   "nbconvert_exporter": "python",
   "pygments_lexer": "ipython3",
   "version": "3.9.13"
  }
 },
 "nbformat": 4,
 "nbformat_minor": 5
}
