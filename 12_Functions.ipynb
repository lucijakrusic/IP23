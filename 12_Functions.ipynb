{
 "cells": [
  {
   "cell_type": "markdown",
   "id": "c8e12a4c",
   "metadata": {},
   "source": [
    "<b>Functions</b> are procedures or, if you will, subroutines that are called from the main program.\n",
    "\n",
    "\n",
    "<b>Another definition</b> - functions ar block statements that run when called, you can pass data (parameters) to it and it returns some data as the result.\n",
    "\n",
    "\n"
   ]
  },
  {
   "cell_type": "markdown",
   "id": "403d6f2e",
   "metadata": {},
   "source": [
    "<b>The advantages of using functions are</b>:\n",
    "\n",
    "* Functions are reusable: A function, once written, can be used multiple times in a program (or even from different programs).\n",
    "* Functions prevent redundancy: each functionality exists only once in the program. This makes the program easier to maintain and reduces error-proneness.\n",
    "* Functions structure the code, making it easier to understand.\n",
    "\n",
    "The idea is to put together some common or repeatedly done tasks and make a functions, so that instead of repeating giant blocks of code for different inputs, we can use function calls to reuse the code contained in the function over and over again.\n"
   ]
  },
  {
   "cell_type": "markdown",
   "id": "f200bf0c",
   "metadata": {},
   "source": [
    "## Writing a function\n",
    "\n",
    "A function definition in Python starts with the keyword `def` (many other languages use `function` instead). After the `def` follows the name of the function. This should ideally be a verb, since a function always does something. The name of the function is terminated by a pair of round brackets and a colon. This is followed by the actual function body indented, which defines what the function does.\n"
   ]
  },
  {
   "cell_type": "code",
   "execution_count": 1,
   "id": "2228244a",
   "metadata": {},
   "outputs": [
    {
     "data": {
      "image/png": "[encoded data removed]",
      "text/plain": [
       "<IPython.core.display.Image object>"
      ]
     },
     "execution_count": 1,
     "metadata": {},
     "output_type": "execute_result"
    }
   ],
   "source": [
    "from IPython.display import Image\n",
    "Image(\"img/function.png\")"
   ]
  },
  {
   "cell_type": "code",
   "execution_count": 3,
   "id": "f81b3233",
   "metadata": {},
   "outputs": [],
   "source": [
    "def say_hello():\n",
    "    print('Hello!')"
   ]
  },
  {
   "cell_type": "markdown",
   "id": "98304228",
   "metadata": {},
   "source": [
    "With this we have written a function with the name `say_hello`. The function was created when we executed it, but it doesn\\`t do anything yet because we haven`t called it yet. The call to the function looks like this:"
   ]
  },
  {
   "cell_type": "code",
   "execution_count": 4,
   "id": "9943d61a",
   "metadata": {},
   "outputs": [
    {
     "name": "stdout",
     "output_type": "stream",
     "text": [
      "Hello!\n"
     ]
    }
   ],
   "source": [
    "say_hello()"
   ]
  },
  {
   "cell_type": "markdown",
   "id": "276c89b4",
   "metadata": {},
   "source": [
    "You remember the function calls we used to make without actually knowing what we were doing?\n",
    "\n",
    "* `print()`\n",
    "* `type()`\n",
    "* `len()`\n",
    "* ...\n",
    "\n",
    "In each case a function is called, which kindly someone else has already written for us, and which is available in every Python installation"
   ]
  },
  {
   "cell_type": "markdown",
   "id": "b3211fd6",
   "metadata": {},
   "source": [
    "## Function parameters\n",
    "The function `say_hello()` just written represents only the minimal version of a function: It always does the same thing. We can make the function more flexible by assigning **parameters** to it when we define it:"
   ]
  },
  {
   "cell_type": "code",
   "execution_count": 5,
   "id": "ae8a9f61",
   "metadata": {},
   "outputs": [],
   "source": [
    "def say_hello(username):\n",
    "    print(f'Hello {username}!')\n"
   ]
  },
  {
   "cell_type": "markdown",
   "id": "65fb8a9e",
   "metadata": {},
   "source": [
    "Here the function declaration specifies that a *parameter*, i.e. a value, must be passed to the function when it is called, which is then available within the function as the variable `username`. We can pass this value as *argument* when calling the function:"
   ]
  },
  {
   "cell_type": "code",
   "execution_count": 8,
   "id": "ec2fdd86",
   "metadata": {},
   "outputs": [
    {
     "ename": "TypeError",
     "evalue": "say_hello() missing 1 required positional argument: 'username'",
     "output_type": "error",
     "traceback": [
      "\u001b[1;31m---------------------------------------------------------------------------\u001b[0m",
      "\u001b[1;31mTypeError\u001b[0m                                 Traceback (most recent call last)",
      "\u001b[1;32m~\\AppData\\Local\\Temp\\ipykernel_26240\\2814888808.py\u001b[0m in \u001b[0;36m<module>\u001b[1;34m\u001b[0m\n\u001b[1;32m----> 1\u001b[1;33m \u001b[0msay_hello\u001b[0m\u001b[1;33m(\u001b[0m\u001b[1;33m)\u001b[0m\u001b[1;33m\u001b[0m\u001b[1;33m\u001b[0m\u001b[0m\n\u001b[0m",
      "\u001b[1;31mTypeError\u001b[0m: say_hello() missing 1 required positional argument: 'username'"
     ]
    }
   ],
   "source": [
    "say_hello()"
   ]
  },
  {
   "cell_type": "code",
   "execution_count": 7,
   "id": "22d8c74b",
   "metadata": {},
   "outputs": [
    {
     "name": "stdout",
     "output_type": "stream",
     "text": [
      "Hello Lucija!\n"
     ]
    }
   ],
   "source": [
    "say_hello('Lucija')"
   ]
  },
  {
   "cell_type": "markdown",
   "id": "f556438a",
   "metadata": {},
   "source": [
    "## Return values\n",
    "\n",
    "### The default return value is `None`.\n",
    "\n",
    "Each function returns a value when called. This is `None` unless otherwise specified. Here is an example of this return value that is not explicitly specified:"
   ]
  },
  {
   "cell_type": "code",
   "execution_count": 9,
   "id": "f5ae23e9",
   "metadata": {},
   "outputs": [
    {
     "name": "stdout",
     "output_type": "stream",
     "text": [
      "Hello Otto!\n",
      "Return: None\n"
     ]
    }
   ],
   "source": [
    "retval = say_hello('Otto')  # Store return value to variable\n",
    "print(f'Return: {retval}')"
   ]
  },
  {
   "cell_type": "markdown",
   "id": "b3f9e287",
   "metadata": {},
   "source": [
    "### Explicit return values\n",
    "\n",
    "Explicit return values are always useful when, for example, a function calculates something and the result of the calculation is to be used in the main program.\n",
    "\n",
    "The following function transforms the passed string so that only the first and last characters are returned. Between these two characters is the number of omitted characters. Thus `abcd` becomes `a2d`."
   ]
  },
  {
   "cell_type": "code",
   "execution_count": 18,
   "id": "8e3841a7",
   "metadata": {},
   "outputs": [],
   "source": [
    "def shorten(long_str):\n",
    "    if len(long_str) > 2:  # only useful for strings with at least 3 characters\n",
    "        # return the first, last and in between the number of left out chars\n",
    "        rv = f\"{long_str[0]}{len(long_str) - 2}{long_str[-1]}\"\n",
    "    else:\n",
    "        rv = long_str\n",
    "    return rv\n"
   ]
  },
  {
   "cell_type": "code",
   "execution_count": 19,
   "id": "8e74dc57",
   "metadata": {},
   "outputs": [
    {
     "data": {
      "text/plain": [
       "'I18n'"
      ]
     },
     "execution_count": 19,
     "metadata": {},
     "output_type": "execute_result"
    }
   ],
   "source": [
    "shorten('Internationalization')"
   ]
  },
  {
   "cell_type": "code",
   "execution_count": 20,
   "id": "7f933188",
   "metadata": {},
   "outputs": [
    {
     "name": "stdout",
     "output_type": "stream",
     "text": [
      "L4a\n"
     ]
    }
   ],
   "source": [
    "print(shorten('Lucija'))"
   ]
  },
  {
   "cell_type": "markdown",
   "id": "6dc3d88b",
   "metadata": {},
   "source": [
    "<div class=\"alert alert-block alert-info\">\n",
    "<b>Exercise 1 </b>\n",
    "<p>Write a <tt>count_distinct_chars()</tt> function that takes a <tt>text</tt> parameter. In the function, determine how many different characters <tt>text</tt> consists of (if you don't remember how, look in the notebook on sets) and return this number as the result</p>\n",
    "<p>So if you call <tt>count_distinc_chars('abcabc')</tt> you should get <tt>3</tt> as a result.\n",
    "</div>"
   ]
  },
  {
   "cell_type": "code",
   "execution_count": 6,
   "id": "347b1ff7",
   "metadata": {},
   "outputs": [
    {
     "data": {
      "text/plain": [
       "3"
      ]
     },
     "execution_count": 6,
     "metadata": {},
     "output_type": "execute_result"
    }
   ],
   "source": [
    "def count_distinct_chars(text):\n",
    "    #text = 'abcabc'\n",
    "    text_set=set(text)\n",
    "    return len(text_set)\n",
    "\n",
    "count_distinct_chars('ANA')"
   ]
  },
  {
   "cell_type": "markdown",
   "id": "29e49e39",
   "metadata": {},
   "source": [
    "### A real example\n",
    "Let's remember the homework exercise where we compared the most popular first names of 1984 and 2015. There, for each of the two years, we read in the names from the corresponding file as a list:"
   ]
  },
  {
   "cell_type": "code",
   "execution_count": 7,
   "id": "736ed136",
   "metadata": {},
   "outputs": [],
   "source": [
    "with open('data/names/first_1984.txt') as fh:\n",
    "    names_84 = [n.rstrip() for n in fh.readlines()]"
   ]
  },
  {
   "cell_type": "markdown",
   "id": "f6156bbc",
   "metadata": {},
   "source": [
    "Instead of rewriting this code for each file to be examined, we can program a corresponding function `read_names()` and call it several times:"
   ]
  },
  {
   "cell_type": "code",
   "execution_count": 8,
   "id": "764d730c",
   "metadata": {},
   "outputs": [],
   "source": [
    "def read_names(filename):\n",
    "    with open(filename) as fh:\n",
    "        names = [n.rstrip() for n in fh.readlines()]\n",
    "    return names"
   ]
  },
  {
   "cell_type": "code",
   "execution_count": 9,
   "id": "2c499b53",
   "metadata": {},
   "outputs": [
    {
     "data": {
      "text/plain": [
       "['Dominik',\n",
       " 'Philipp',\n",
       " 'Manuel',\n",
       " 'Sarah',\n",
       " 'Clemens',\n",
       " 'Benjamin',\n",
       " 'Stefan',\n",
       " 'Anna',\n",
       " 'Niklas',\n",
       " 'Dennis',\n",
       " 'Larissa',\n",
       " 'Leon',\n",
       " 'Dominik',\n",
       " 'Lukas',\n",
       " 'Emma',\n",
       " 'Daniel',\n",
       " 'Alina',\n",
       " 'Alexander',\n",
       " 'Philipp',\n",
       " 'Emilia',\n",
       " 'Noah',\n",
       " 'Philipp',\n",
       " 'Sebastian',\n",
       " 'Nico',\n",
       " 'Patrick',\n",
       " 'Sophie',\n",
       " 'Chiara',\n",
       " 'Katharina',\n",
       " 'Stefan',\n",
       " 'Niklas',\n",
       " 'Martin',\n",
       " 'Michaela',\n",
       " 'Carina',\n",
       " 'Julia',\n",
       " 'Lukas',\n",
       " 'David',\n",
       " 'Marcel',\n",
       " 'Nico',\n",
       " 'Matteo',\n",
       " 'Philipp',\n",
       " 'Sophie',\n",
       " 'Jan',\n",
       " 'Emilia',\n",
       " 'Markus',\n",
       " 'Anna',\n",
       " 'Alexander',\n",
       " 'Tobias',\n",
       " 'Nico',\n",
       " 'Magdalena',\n",
       " 'Elisabeth',\n",
       " 'Christina',\n",
       " 'Leonie',\n",
       " 'Nadine',\n",
       " 'Sabrina',\n",
       " 'Lukas',\n",
       " 'Annika',\n",
       " 'Matthias',\n",
       " 'Elena',\n",
       " 'Alexander',\n",
       " 'Johannes',\n",
       " 'Paul',\n",
       " 'Markus',\n",
       " 'Anna',\n",
       " 'Nico',\n",
       " 'Christina',\n",
       " 'Lukas',\n",
       " 'Sebastian',\n",
       " 'Andreas',\n",
       " 'Marcel',\n",
       " 'Markus',\n",
       " 'Elena',\n",
       " 'Daniel',\n",
       " 'Lea',\n",
       " 'Josef',\n",
       " 'Sebastian',\n",
       " 'Tamara',\n",
       " 'Jonas',\n",
       " 'Vanessa',\n",
       " 'Valentin',\n",
       " 'Lukas',\n",
       " 'Josef',\n",
       " 'Gabriel',\n",
       " 'Maria',\n",
       " 'Fabian',\n",
       " 'Paul',\n",
       " 'Lena',\n",
       " 'Lena',\n",
       " 'Michaela',\n",
       " 'Elias',\n",
       " 'Florian',\n",
       " 'Felix',\n",
       " 'Sarah',\n",
       " 'Chiara',\n",
       " 'Gabriel',\n",
       " 'Lena',\n",
       " 'Daniel',\n",
       " 'Michael',\n",
       " 'Kevin',\n",
       " 'Josef',\n",
       " 'Anna',\n",
       " 'Fabian',\n",
       " 'Anna',\n",
       " 'Verena',\n",
       " 'Magdalena',\n",
       " 'Leonhard',\n",
       " 'Thomas',\n",
       " 'Jasmin',\n",
       " 'Tamara',\n",
       " 'Jessica',\n",
       " 'Maria',\n",
       " 'Jakob',\n",
       " 'Sabrina',\n",
       " 'Lukas',\n",
       " 'Maria',\n",
       " 'Laura',\n",
       " 'Manuel',\n",
       " 'Florian',\n",
       " 'Vanessa',\n",
       " 'Viktoria',\n",
       " 'Julia',\n",
       " 'Dominik',\n",
       " 'Jennifer',\n",
       " 'Niklas',\n",
       " 'Lara',\n",
       " 'Felix',\n",
       " 'Isabella',\n",
       " 'David',\n",
       " 'Niklas',\n",
       " 'Simon',\n",
       " 'Lukas',\n",
       " 'Sebastian',\n",
       " 'Markus',\n",
       " 'Annika',\n",
       " 'Michaela',\n",
       " 'Lisa',\n",
       " 'Alexandra',\n",
       " 'Oliver',\n",
       " 'Antonia',\n",
       " 'Franziska',\n",
       " 'Tobias',\n",
       " 'Christian',\n",
       " 'Lena',\n",
       " 'Maria',\n",
       " 'Lukas',\n",
       " 'Nadine',\n",
       " 'Franziska',\n",
       " 'Daniel',\n",
       " 'David',\n",
       " 'Alexander',\n",
       " 'Pia',\n",
       " 'Simon',\n",
       " 'Selina',\n",
       " 'Marcel',\n",
       " 'Jasmin',\n",
       " 'Andreas',\n",
       " 'Larissa',\n",
       " 'Lea',\n",
       " 'Muhammed',\n",
       " 'Lara',\n",
       " 'Magdalena',\n",
       " 'Moritz',\n",
       " 'Melanie',\n",
       " 'Sophie',\n",
       " 'Johanna',\n",
       " 'Elias',\n",
       " 'Melanie',\n",
       " 'Fabio',\n",
       " 'Daniel',\n",
       " 'Marlene',\n",
       " 'Dominik',\n",
       " 'Nina',\n",
       " 'Marlene',\n",
       " 'Lukas',\n",
       " 'Manuel',\n",
       " 'Johannes',\n",
       " 'Stefanie',\n",
       " 'Jakob',\n",
       " 'Marvin',\n",
       " 'Philipp',\n",
       " 'Leonie',\n",
       " 'Julian',\n",
       " 'Katharina',\n",
       " 'Christoph',\n",
       " 'Sebastian',\n",
       " 'Melanie',\n",
       " 'Max',\n",
       " 'Amelie',\n",
       " 'Tobias',\n",
       " 'Selina',\n",
       " 'Lukas',\n",
       " 'Elena',\n",
       " 'Tanja',\n",
       " 'Leonie',\n",
       " 'David',\n",
       " 'Amelie',\n",
       " 'Georg',\n",
       " 'Katharina',\n",
       " 'Emma',\n",
       " 'Nina',\n",
       " 'Tobias',\n",
       " 'Simon',\n",
       " 'Chiara',\n",
       " 'Viktoria',\n",
       " 'Leonhard',\n",
       " 'Maria',\n",
       " 'Lukas',\n",
       " 'Andreas',\n",
       " 'Julia',\n",
       " 'Chiara',\n",
       " 'Larissa',\n",
       " 'Laura',\n",
       " 'Lea',\n",
       " 'Anja',\n",
       " 'Jakob',\n",
       " 'Christoph',\n",
       " 'Elisa',\n",
       " 'Christina',\n",
       " 'Alexander',\n",
       " 'Johanna',\n",
       " 'Matthias',\n",
       " 'Paul',\n",
       " 'Jennifer',\n",
       " 'Michael',\n",
       " 'Michael',\n",
       " 'Fabian',\n",
       " 'Anna',\n",
       " 'Sophie',\n",
       " 'Christoph',\n",
       " 'Magdalena',\n",
       " 'Lukas',\n",
       " 'Elias',\n",
       " 'Carina',\n",
       " 'Simon',\n",
       " 'Daniela',\n",
       " 'Lisa',\n",
       " 'Sarah',\n",
       " 'Lukas',\n",
       " 'Fabian',\n",
       " 'Eva',\n",
       " 'Markus',\n",
       " 'Chiara',\n",
       " 'Tobias',\n",
       " 'Markus',\n",
       " 'Felix',\n",
       " 'Jakob',\n",
       " 'Anna',\n",
       " 'Fabian',\n",
       " 'Bernhard',\n",
       " 'Christina',\n",
       " 'Emma',\n",
       " 'Marcel',\n",
       " 'Anna',\n",
       " 'Thomas',\n",
       " 'Lorenz',\n",
       " 'Mario',\n",
       " 'Sabrina',\n",
       " 'Marlene',\n",
       " 'Selina',\n",
       " 'Magdalena',\n",
       " 'Florian',\n",
       " 'Alina',\n",
       " 'Emma',\n",
       " 'Leonie',\n",
       " 'Anna',\n",
       " 'Theresa',\n",
       " 'Vanessa',\n",
       " 'Vanessa',\n",
       " 'Selina',\n",
       " 'Michael',\n",
       " 'Laura',\n",
       " 'Julia',\n",
       " 'Benjamin',\n",
       " 'Simon',\n",
       " 'Johanna',\n",
       " 'Leonie',\n",
       " 'Christoph',\n",
       " 'Georg',\n",
       " 'Melanie',\n",
       " 'Sarah',\n",
       " 'Sarah',\n",
       " 'Emilia',\n",
       " 'Paul',\n",
       " 'Jonas',\n",
       " 'Stefanie',\n",
       " 'Leonie',\n",
       " 'Katharina',\n",
       " 'Laura',\n",
       " 'Selina',\n",
       " 'Vanessa',\n",
       " 'Angelina',\n",
       " 'Jakob',\n",
       " 'Elena',\n",
       " 'Christina',\n",
       " 'Lukas',\n",
       " 'Viktoria',\n",
       " 'Christina',\n",
       " 'Niklas',\n",
       " 'Jasmin',\n",
       " 'Tobias',\n",
       " 'Marvin',\n",
       " 'Nicole',\n",
       " 'Alina',\n",
       " 'Sophie',\n",
       " 'Amelie',\n",
       " 'Michael',\n",
       " 'Lena',\n",
       " 'Nicole',\n",
       " 'Anna',\n",
       " 'Anna',\n",
       " 'Benjamin',\n",
       " 'Anna',\n",
       " 'Stefan',\n",
       " 'Lukas',\n",
       " 'David',\n",
       " 'Emma',\n",
       " 'Fabian',\n",
       " 'Katharina',\n",
       " 'Fabian',\n",
       " 'Marcel',\n",
       " 'Michael',\n",
       " 'Julian',\n",
       " 'Viktoria',\n",
       " 'Lisa',\n",
       " 'Thomas',\n",
       " 'Jonas',\n",
       " 'Marcel',\n",
       " 'Natalie',\n",
       " 'Christina',\n",
       " 'Julian',\n",
       " 'Simon',\n",
       " 'Felix',\n",
       " 'Patrick',\n",
       " 'Sebastian',\n",
       " 'Julian',\n",
       " 'Michael',\n",
       " 'Daniel',\n",
       " 'Eva',\n",
       " 'Eva',\n",
       " 'Daniel',\n",
       " 'Michaela',\n",
       " 'Celina',\n",
       " 'Philipp',\n",
       " 'Lukas',\n",
       " 'Leonie',\n",
       " 'Jonas',\n",
       " 'Stefan',\n",
       " 'Thomas',\n",
       " 'Sarah',\n",
       " 'Michaela',\n",
       " 'Sarah',\n",
       " 'Elias',\n",
       " 'Theresa',\n",
       " 'Oliver',\n",
       " 'Philipp',\n",
       " 'Lukas',\n",
       " 'Selina',\n",
       " 'Simon',\n",
       " 'Peter',\n",
       " 'Markus',\n",
       " 'Katharina',\n",
       " 'Katharina',\n",
       " 'Raphael',\n",
       " 'Lukas',\n",
       " 'Emilia',\n",
       " 'Selina',\n",
       " 'Noah',\n",
       " 'Jakob',\n",
       " 'Christoph',\n",
       " 'Andreas',\n",
       " 'Patrick',\n",
       " 'Mario',\n",
       " 'Marcel',\n",
       " 'Andreas',\n",
       " 'Katharina',\n",
       " 'Valentin',\n",
       " 'Christoph',\n",
       " 'Daniel',\n",
       " 'Julia',\n",
       " 'Johannes',\n",
       " 'Sabrina',\n",
       " 'Philipp',\n",
       " 'Benedikt',\n",
       " 'Vanessa',\n",
       " 'Thomas',\n",
       " 'Adrian',\n",
       " 'Laura',\n",
       " 'Nadine',\n",
       " 'Daniel',\n",
       " 'Denise',\n",
       " 'Anna',\n",
       " 'Johanna',\n",
       " 'Manuel',\n",
       " 'Niklas',\n",
       " 'Leonhard',\n",
       " 'Jakob',\n",
       " 'Emilia',\n",
       " 'Florian',\n",
       " 'Andreas',\n",
       " 'Vanessa',\n",
       " 'Lukas',\n",
       " 'Nadine',\n",
       " 'Christoph',\n",
       " 'Sabrina',\n",
       " 'Laura',\n",
       " 'Julia',\n",
       " 'Isabella',\n",
       " 'Michael',\n",
       " 'Katharina',\n",
       " 'Manuel',\n",
       " 'Stefan',\n",
       " 'Matthias',\n",
       " 'Maria',\n",
       " 'Anna',\n",
       " 'Lukas',\n",
       " 'Benedikt',\n",
       " 'Jakob',\n",
       " 'Lukas',\n",
       " 'Vanessa',\n",
       " 'Chiara',\n",
       " 'Jan',\n",
       " 'Georg',\n",
       " 'Peter',\n",
       " 'David',\n",
       " 'Sophie',\n",
       " 'Alexander',\n",
       " 'Raphael',\n",
       " 'Leonie',\n",
       " 'Thomas',\n",
       " 'Leonhard',\n",
       " 'Larissa',\n",
       " 'Jan',\n",
       " 'Leon',\n",
       " 'Vanessa',\n",
       " 'Denise',\n",
       " 'Leonie',\n",
       " 'Anna',\n",
       " 'Christoph',\n",
       " 'Lukas',\n",
       " 'Leonhard',\n",
       " 'Lorenz',\n",
       " 'Maria',\n",
       " 'Lisa',\n",
       " 'Lukas',\n",
       " 'Viktoria',\n",
       " 'Kevin',\n",
       " 'Simon',\n",
       " 'Benjamin',\n",
       " 'Matthias',\n",
       " 'Manuel',\n",
       " 'Jakob',\n",
       " 'Anna',\n",
       " 'Michaela',\n",
       " 'Chiara',\n",
       " 'Daniel',\n",
       " 'Alice',\n",
       " 'Emma',\n",
       " 'Sandra',\n",
       " 'Emilia',\n",
       " 'Nina',\n",
       " 'Raphael',\n",
       " 'Moritz',\n",
       " 'Tobias',\n",
       " 'Marlene',\n",
       " 'Elias',\n",
       " 'Sarah',\n",
       " 'Valentina',\n",
       " 'Alexandra',\n",
       " 'Lisa',\n",
       " 'Lukas',\n",
       " 'Philipp',\n",
       " 'Leonie',\n",
       " 'Angelina',\n",
       " 'David',\n",
       " 'Sandra',\n",
       " 'Nadine',\n",
       " 'Markus',\n",
       " 'Sebastian',\n",
       " 'Julia',\n",
       " 'Viktoria',\n",
       " 'Maximilian',\n",
       " 'Emilia',\n",
       " 'Michaela',\n",
       " 'Marcel',\n",
       " 'Jakob',\n",
       " 'Lukas',\n",
       " 'Marcel',\n",
       " 'Josef',\n",
       " 'Lisa',\n",
       " 'Marlene',\n",
       " 'Theresa',\n",
       " 'Isabella',\n",
       " 'Sophie',\n",
       " 'David',\n",
       " 'Alexander',\n",
       " 'Elias',\n",
       " 'Johannes',\n",
       " 'Christoph',\n",
       " 'Leonie',\n",
       " 'Lukas',\n",
       " 'Elias',\n",
       " 'Katharina',\n",
       " 'Celina',\n",
       " 'Kilian',\n",
       " 'Sabrina',\n",
       " 'Sebastian',\n",
       " 'Maximilian',\n",
       " 'Lea',\n",
       " 'Benjamin',\n",
       " 'Elias',\n",
       " 'Simon',\n",
       " 'Julia',\n",
       " 'Stefanie',\n",
       " 'Muhammed',\n",
       " 'Marvin',\n",
       " 'Alexander',\n",
       " 'Pascal',\n",
       " 'Michaela',\n",
       " 'Clemens',\n",
       " 'David',\n",
       " 'Lena',\n",
       " 'Johannes',\n",
       " 'Lorenz',\n",
       " 'Julian',\n",
       " 'David',\n",
       " 'Benjamin',\n",
       " 'Daniel',\n",
       " 'Stefan',\n",
       " 'Nico',\n",
       " 'Sandra',\n",
       " 'Angelina',\n",
       " 'Michaela',\n",
       " 'Isabella',\n",
       " 'Marcel',\n",
       " 'Sebastian',\n",
       " 'Nicole',\n",
       " 'Leon',\n",
       " 'Daniel',\n",
       " 'Matteo',\n",
       " 'Lukas',\n",
       " 'Benjamin',\n",
       " 'Natalie',\n",
       " 'Alexander',\n",
       " 'Alexander',\n",
       " 'Simon',\n",
       " 'Patrick',\n",
       " 'Katharina',\n",
       " 'Alexandra',\n",
       " 'Johanna',\n",
       " 'Philipp',\n",
       " 'Anna',\n",
       " 'Marlene',\n",
       " 'Florian',\n",
       " 'Lukas',\n",
       " 'Christina',\n",
       " 'Moritz',\n",
       " 'Lorenz',\n",
       " 'Samuel',\n",
       " 'David',\n",
       " 'Samuel',\n",
       " 'Lorenz',\n",
       " 'Johanna',\n",
       " 'Dominik',\n",
       " 'Simon',\n",
       " 'Markus',\n",
       " 'Sarah',\n",
       " 'Michael',\n",
       " 'Stefanie',\n",
       " 'Sarah',\n",
       " 'Florian',\n",
       " 'Anna',\n",
       " 'Stefanie',\n",
       " 'Niklas',\n",
       " 'Daniel',\n",
       " 'Christian',\n",
       " 'Benjamin',\n",
       " 'Sophie',\n",
       " 'Annika',\n",
       " 'Markus',\n",
       " 'Georg',\n",
       " 'Leon',\n",
       " 'Daniel',\n",
       " 'Sebastian',\n",
       " 'Magdalena',\n",
       " 'Matthias',\n",
       " 'Nicole',\n",
       " 'Tobias',\n",
       " 'Anna',\n",
       " 'Sebastian',\n",
       " 'Jessica',\n",
       " 'Celina',\n",
       " 'Stefanie',\n",
       " 'Valentina',\n",
       " 'Viktoria',\n",
       " 'Lukas',\n",
       " 'Julian',\n",
       " 'Nina',\n",
       " 'Felix',\n",
       " 'Manuel',\n",
       " 'Patrick',\n",
       " 'Laura',\n",
       " 'Lea',\n",
       " 'Alina',\n",
       " 'Katharina',\n",
       " 'Jennifer',\n",
       " 'Alexander',\n",
       " 'Tobias',\n",
       " 'Julian',\n",
       " 'Lea',\n",
       " 'Vanessa',\n",
       " 'Samuel',\n",
       " 'Christoph',\n",
       " 'Lisa',\n",
       " 'Noah',\n",
       " 'Johanna',\n",
       " 'Tanja',\n",
       " 'Elena',\n",
       " 'Lena',\n",
       " 'Alexander',\n",
       " 'Isabella',\n",
       " 'Eva',\n",
       " 'Maximilian',\n",
       " 'Viktoria',\n",
       " 'Caroline',\n",
       " 'Julia',\n",
       " 'Maximilian',\n",
       " 'Anja',\n",
       " 'Oliver',\n",
       " 'Martin',\n",
       " 'Matthias',\n",
       " 'Patrick',\n",
       " 'Andreas',\n",
       " 'Christian',\n",
       " 'Stefanie',\n",
       " 'Alexander',\n",
       " 'Andreas',\n",
       " 'Markus',\n",
       " 'Lena',\n",
       " 'Sophie',\n",
       " 'Sarah',\n",
       " 'Sandra',\n",
       " 'Philipp',\n",
       " 'Janine',\n",
       " 'Melanie',\n",
       " 'Michael',\n",
       " 'Caroline',\n",
       " 'Gabriel',\n",
       " 'Dominik',\n",
       " 'David',\n",
       " 'Jonas',\n",
       " 'Benjamin',\n",
       " 'Maria',\n",
       " 'Sandra',\n",
       " 'Michael',\n",
       " 'Magdalena',\n",
       " 'Emilia',\n",
       " 'Anna',\n",
       " 'Fabian',\n",
       " 'Amelie',\n",
       " 'Verena',\n",
       " 'Matthias',\n",
       " 'Patrick',\n",
       " 'Michaela',\n",
       " 'Simon',\n",
       " 'Anna',\n",
       " 'David',\n",
       " 'Annika',\n",
       " 'Michael',\n",
       " 'Jonas',\n",
       " 'Nina',\n",
       " 'Simon',\n",
       " 'Elisa',\n",
       " 'Dominik',\n",
       " 'Anna',\n",
       " 'Lea',\n",
       " 'Vanessa',\n",
       " 'Lisa',\n",
       " 'Lukas',\n",
       " 'Lisa',\n",
       " 'Valentin',\n",
       " 'Emilia',\n",
       " 'David',\n",
       " 'Michael',\n",
       " 'Julian',\n",
       " 'Elias',\n",
       " 'Florian',\n",
       " 'Melanie',\n",
       " 'Julian',\n",
       " 'Nina',\n",
       " 'Tamara',\n",
       " 'Jan',\n",
       " 'Michaela',\n",
       " 'Clemens',\n",
       " 'Leonie',\n",
       " 'Paul',\n",
       " 'Manuel',\n",
       " 'Paul',\n",
       " 'Lena',\n",
       " 'Lea',\n",
       " 'Philipp',\n",
       " 'Christoph',\n",
       " 'Viktoria',\n",
       " 'Lena',\n",
       " 'Caroline',\n",
       " 'Laura',\n",
       " 'Julian',\n",
       " 'Sophie',\n",
       " 'Moritz',\n",
       " 'Dominik',\n",
       " 'Jonas',\n",
       " 'Lukas',\n",
       " 'Maximilian',\n",
       " 'Melanie',\n",
       " 'Philipp',\n",
       " 'Manuel',\n",
       " 'Leonie',\n",
       " 'Paul',\n",
       " 'Oliver',\n",
       " 'Lukas',\n",
       " 'Simon',\n",
       " 'Lorenz',\n",
       " 'Tobias',\n",
       " 'Anna',\n",
       " 'Marcel',\n",
       " 'Markus',\n",
       " 'Florian',\n",
       " 'Alice',\n",
       " 'Martin',\n",
       " 'Alexander',\n",
       " 'Celina',\n",
       " 'Sophie',\n",
       " 'Jasmin',\n",
       " 'Lea',\n",
       " 'Anna',\n",
       " 'Nicole',\n",
       " 'Lukas',\n",
       " 'Florian',\n",
       " 'Alexander',\n",
       " 'David',\n",
       " 'Niklas',\n",
       " 'Andreas',\n",
       " 'Katharina',\n",
       " 'Lisa',\n",
       " 'Jasmin',\n",
       " 'Pascal',\n",
       " 'Daniel',\n",
       " 'Magdalena',\n",
       " 'Julian',\n",
       " 'Elena',\n",
       " 'Dominik',\n",
       " 'Jakob',\n",
       " 'Simon',\n",
       " 'Raphael',\n",
       " 'Anna',\n",
       " 'Tobias',\n",
       " 'Andreas',\n",
       " 'Anna',\n",
       " 'Lukas',\n",
       " 'Christian',\n",
       " 'Simon',\n",
       " 'Selina',\n",
       " 'Anna',\n",
       " 'Alexandra',\n",
       " 'Matthias',\n",
       " 'Bernhard',\n",
       " 'Maria',\n",
       " 'Julian',\n",
       " 'Adrian',\n",
       " 'Jonas',\n",
       " 'Isabella',\n",
       " 'Markus',\n",
       " 'Lukas',\n",
       " 'Maximilian',\n",
       " 'Franziska',\n",
       " 'Clemens',\n",
       " 'Nico',\n",
       " 'Alexandra',\n",
       " 'Elisa',\n",
       " 'Anja',\n",
       " 'Magdalena',\n",
       " 'Anna',\n",
       " 'Thomas',\n",
       " 'Anna',\n",
       " 'Alina',\n",
       " 'Raphael',\n",
       " 'Florian',\n",
       " 'Maria',\n",
       " 'Leonie',\n",
       " 'Celina',\n",
       " 'Niklas',\n",
       " 'Benjamin',\n",
       " 'Martin',\n",
       " 'Anna',\n",
       " 'Michaela',\n",
       " 'Felix',\n",
       " 'Anna',\n",
       " 'Clemens',\n",
       " 'Fabian',\n",
       " 'Stefanie',\n",
       " 'Benjamin',\n",
       " 'Nadine',\n",
       " 'Felix',\n",
       " 'Niklas',\n",
       " 'Anna',\n",
       " 'Matthias',\n",
       " 'Sarah',\n",
       " 'Selina',\n",
       " 'Kilian',\n",
       " 'Dominik',\n",
       " 'Alexander',\n",
       " 'Mia',\n",
       " 'Jan',\n",
       " 'Kevin',\n",
       " 'Anna',\n",
       " 'Larissa',\n",
       " 'Selina',\n",
       " 'Anna',\n",
       " 'Tobias',\n",
       " 'Manuel',\n",
       " 'Thomas',\n",
       " 'Nico',\n",
       " 'Anna',\n",
       " 'Johanna',\n",
       " 'Marcel',\n",
       " 'Marvin',\n",
       " 'Florian',\n",
       " 'Lena',\n",
       " 'Paul',\n",
       " 'Florian',\n",
       " 'Lukas',\n",
       " 'Jonas',\n",
       " 'Gabriel',\n",
       " 'Jakob',\n",
       " 'Moritz',\n",
       " 'Niklas',\n",
       " 'Jessica',\n",
       " 'Jennifer',\n",
       " 'Viktoria',\n",
       " 'Franziska',\n",
       " 'Laura',\n",
       " 'Paula',\n",
       " 'Lisa',\n",
       " 'Christoph',\n",
       " 'Lena',\n",
       " 'Michaela',\n",
       " 'Sandra',\n",
       " 'Philipp',\n",
       " 'Tobias',\n",
       " 'Jacqueline',\n",
       " 'Alina',\n",
       " 'Anna',\n",
       " 'Anna',\n",
       " 'Magdalena',\n",
       " 'Alexander',\n",
       " 'Jakob',\n",
       " 'Elena',\n",
       " 'Florian',\n",
       " 'Florian',\n",
       " 'Laura',\n",
       " 'Maximilian',\n",
       " 'Simon',\n",
       " 'Tanja',\n",
       " 'RenÃ©',\n",
       " 'Daniel',\n",
       " 'Jessica',\n",
       " 'Noah',\n",
       " 'Julia',\n",
       " 'Jakob',\n",
       " 'Michaela',\n",
       " 'David',\n",
       " 'Clemens',\n",
       " 'Leon',\n",
       " 'Sabrina',\n",
       " 'Emilia',\n",
       " 'Tobias',\n",
       " 'Anna',\n",
       " 'Alexander',\n",
       " 'Lisa',\n",
       " 'Gabriel',\n",
       " 'Elias',\n",
       " 'Melanie',\n",
       " 'Lukas',\n",
       " 'Daniel',\n",
       " 'Philipp',\n",
       " 'Philipp',\n",
       " 'David',\n",
       " 'Nadine',\n",
       " 'Viktoria',\n",
       " 'Christoph',\n",
       " 'Fabian',\n",
       " 'Samuel',\n",
       " 'Samuel',\n",
       " 'Markus',\n",
       " 'Jonas',\n",
       " 'Kevin',\n",
       " 'Lea',\n",
       " 'Vanessa',\n",
       " 'Lukas',\n",
       " 'Julia',\n",
       " 'Jonas',\n",
       " 'Pascal',\n",
       " 'Eva',\n",
       " 'Andreas',\n",
       " 'Valentin',\n",
       " 'Anna',\n",
       " 'Felix',\n",
       " 'Alexander',\n",
       " 'Celina',\n",
       " 'Celina',\n",
       " 'Michael',\n",
       " 'Lena',\n",
       " 'Anna',\n",
       " 'Katharina',\n",
       " 'David',\n",
       " 'Markus',\n",
       " 'Markus',\n",
       " 'Melanie',\n",
       " 'Fabian',\n",
       " 'Melanie',\n",
       " 'Alexander',\n",
       " 'Anja',\n",
       " 'Viktoria',\n",
       " 'Michael',\n",
       " 'Kevin',\n",
       " 'Janine',\n",
       " 'Lea',\n",
       " 'Katharina',\n",
       " 'Lena',\n",
       " 'Tamara',\n",
       " 'Magdalena',\n",
       " 'Lukas',\n",
       " 'Felix',\n",
       " 'Philipp',\n",
       " 'Sebastian',\n",
       " 'Elena',\n",
       " 'Sophie',\n",
       " 'Elena',\n",
       " 'Sarah',\n",
       " 'Florian',\n",
       " 'Georg',\n",
       " 'Philipp',\n",
       " 'Anna',\n",
       " 'Stefan',\n",
       " 'Markus',\n",
       " 'Anna',\n",
       " 'Selina',\n",
       " 'Anna',\n",
       " 'Emilia',\n",
       " 'Jakob',\n",
       " 'Niklas',\n",
       " 'Philipp',\n",
       " 'Chiara',\n",
       " 'Markus',\n",
       " 'Nico',\n",
       " 'Kilian',\n",
       " 'Chiara',\n",
       " 'Johanna',\n",
       " 'Sophie',\n",
       " 'Oliver',\n",
       " 'Dominik',\n",
       " 'Kevin',\n",
       " 'Manuel',\n",
       " 'Christian',\n",
       " 'Fabian',\n",
       " 'Dominik',\n",
       " 'Alexander',\n",
       " 'Niklas',\n",
       " 'Alexandra',\n",
       " 'Lea',\n",
       " 'Tobias',\n",
       " 'Melanie',\n",
       " 'Andreas',\n",
       " 'Anna',\n",
       " 'Lara',\n",
       " 'Daniel',\n",
       " 'Peter',\n",
       " 'Manuel',\n",
       " 'Eva',\n",
       " 'Verena',\n",
       " 'Chiara',\n",
       " 'Michaela',\n",
       " 'Jacqueline',\n",
       " 'Nico',\n",
       " 'Lea',\n",
       " 'Alexander',\n",
       " 'Leonhard',\n",
       " 'Felix',\n",
       " 'Christina',\n",
       " 'Lena',\n",
       " 'Leonie',\n",
       " 'Sarah',\n",
       " 'Sophie',\n",
       " 'Florian',\n",
       " 'Jennifer',\n",
       " 'Kilian',\n",
       " 'Carina',\n",
       " 'Leonhard',\n",
       " 'Tobias',\n",
       " 'Daniel',\n",
       " 'Fabian',\n",
       " 'Jessica',\n",
       " ...]"
      ]
     },
     "execution_count": 9,
     "metadata": {},
     "output_type": "execute_result"
    }
   ],
   "source": [
    "names_84 = read_names('data/names/names_2001-2005.txt')\n",
    "names_15 = read_names('data/names/first_2015.txt')\n",
    "names_84"
   ]
  },
  {
   "cell_type": "code",
   "execution_count": 10,
   "id": "6974f040",
   "metadata": {},
   "outputs": [
    {
     "data": {
      "text/plain": [
       "['Lukas',\n",
       " 'Anna',\n",
       " 'David',\n",
       " 'Sophie',\n",
       " 'Jakob',\n",
       " 'Maria',\n",
       " 'Elias',\n",
       " 'Emilia',\n",
       " 'Maximilian',\n",
       " 'Elena',\n",
       " 'Alexander',\n",
       " 'Emma',\n",
       " 'Jonas',\n",
       " 'Lena',\n",
       " 'Paul',\n",
       " 'Sarah',\n",
       " 'Tobias',\n",
       " 'Mia',\n",
       " 'Leon',\n",
       " 'Laura',\n",
       " 'Felix',\n",
       " 'Julia',\n",
       " 'Simon',\n",
       " 'Johanna',\n",
       " 'Raphael',\n",
       " 'Lea',\n",
       " 'Niklas',\n",
       " 'Valentina',\n",
       " 'Philipp',\n",
       " 'Leonie',\n",
       " 'Julian',\n",
       " 'Luisa',\n",
       " 'Sebastian',\n",
       " 'Katharina',\n",
       " 'Fabian',\n",
       " 'Chiara',\n",
       " 'Matthias',\n",
       " 'Amelie',\n",
       " 'Moritz',\n",
       " 'Magdalena',\n",
       " 'Matteo',\n",
       " 'Lara',\n",
       " 'Florian',\n",
       " 'Isabella',\n",
       " 'Johannes',\n",
       " 'Theresa',\n",
       " 'Noah',\n",
       " 'Viktoria',\n",
       " 'Lorenz',\n",
       " 'Lisa',\n",
       " 'Luis',\n",
       " 'Lina',\n",
       " 'Michael',\n",
       " 'Marlene',\n",
       " 'Daniel',\n",
       " 'Annika',\n",
       " 'Samuel',\n",
       " 'Elisa',\n",
       " 'Benjamin',\n",
       " 'Nina',\n",
       " 'Nico',\n",
       " 'Nora',\n",
       " 'Markus',\n",
       " 'Alina',\n",
       " 'Valentin',\n",
       " 'Ella',\n",
       " 'Muhammed',\n",
       " 'Caroline',\n",
       " 'Dominik',\n",
       " 'Maja',\n",
       " 'Leo',\n",
       " 'Franziska',\n",
       " 'Josef',\n",
       " 'Paula',\n",
       " 'Emil',\n",
       " 'Lilly',\n",
       " 'Leonhard',\n",
       " 'Valerie',\n",
       " 'Andreas',\n",
       " 'Alice',\n",
       " 'Gabriel',\n",
       " 'Zoe',\n",
       " 'Konstantin',\n",
       " 'Eva',\n",
       " 'Anton',\n",
       " 'Paulina',\n",
       " 'Stefan',\n",
       " 'Jasmin',\n",
       " 'Jan',\n",
       " 'Selina',\n",
       " 'Manuel',\n",
       " 'Olivia',\n",
       " 'Adrian',\n",
       " 'Elif',\n",
       " 'Ben',\n",
       " 'Amina',\n",
       " 'Marcel',\n",
       " 'Vanessa',\n",
       " 'Jonathan',\n",
       " 'Melissa',\n",
       " 'Vincent',\n",
       " 'Pia',\n",
       " 'Theodor',\n",
       " 'Matilda',\n",
       " 'Finn',\n",
       " 'Anja',\n",
       " 'Thomas',\n",
       " 'Anna-Lena',\n",
       " 'Oliver',\n",
       " 'Elisabeth',\n",
       " 'Kilian',\n",
       " 'Christina',\n",
       " 'Max',\n",
       " 'Antonia',\n",
       " 'Oskar',\n",
       " 'Linda',\n",
       " 'Christian',\n",
       " 'Rosa',\n",
       " 'Christoph',\n",
       " 'Ida',\n",
       " 'Erik']"
      ]
     },
     "execution_count": 10,
     "metadata": {},
     "output_type": "execute_result"
    }
   ],
   "source": [
    "names_15"
   ]
  },
  {
   "cell_type": "markdown",
   "id": "72449637",
   "metadata": {},
   "source": [
    "If we can assume that we always find the most popular first names of each year in the directory `data/first_names`, and the file names are always structured the same way (`first_names_YYY.txt`), we can also write a more specialized function:"
   ]
  },
  {
   "cell_type": "code",
   "execution_count": 19,
   "id": "a62bd5db",
   "metadata": {},
   "outputs": [],
   "source": [
    "def read_names_for_year(year):\n",
    "    filename = f\"data/names/first_{year}.txt\"\n",
    "    with open(filename, encoding='utf-8') as fh:\n",
    "        names = [n.rstrip() for n in fh.readlines()]\n",
    "    return names"
   ]
  },
  {
   "cell_type": "code",
   "execution_count": 20,
   "id": "f7e8d1e9",
   "metadata": {},
   "outputs": [
    {
     "name": "stdout",
     "output_type": "stream",
     "text": [
      "['Markus', 'Katharina', 'Michael', 'Christina', 'Stefan', 'Daniela', 'Andreas', 'Claudia', 'Thomas', 'Nicole', 'Christoph', 'Sandra', 'Christian', 'Barbara', 'Martin', 'Elisabeth', 'Daniel', 'Andrea', 'Manuel', 'Sabine', 'Georg', 'Martina', 'Alexander', 'Michaela', 'Johannes', 'Julia', 'Florian', 'Maria', 'Mario', 'Birgit', 'Bernhard', 'Manuela', 'Peter', 'Stefanie', 'Matthias', 'Karin', 'Patrick', 'Petra', 'Philipp', 'Bettina', 'René', 'Melanie', 'Wolfgang', 'Verena', 'Robert', 'Cornelia', 'David', 'Eva', 'Dominik', 'Sabrina', 'Josef', 'Tanja', 'Harald', 'Carina', 'Franz', 'Alexandra', 'Roland', 'Sonja', 'Roman', 'Silvia', 'Lukas', 'Doris', 'Hannes', 'Anna', 'Gerald', 'Susanne', 'Gerhard', 'Isabella', 'Sebastian', 'Bianca', 'Manfred', 'Jasmin', 'Günther', 'Simone', 'Klaus', 'Nina', 'Simon', 'Monika', 'Richard', 'Anita', 'Clemens', 'Sarah', 'Reinhard', 'Caroline', 'Bernd', 'Marion', 'Herbert', 'Viktoria', 'Karl', 'Angelika', 'Gernot', 'Tamara', 'Paul', 'Johanna', 'Benjamin', 'Patricia', 'Oliver', 'Evelyn', 'Werner', 'Yvonne', 'Helmut', 'Theresa', 'Anton', 'Ines', 'Gregor', 'Magdalena', 'Armin', 'Romana', 'Sascha', 'Astrid', 'Rainer', 'Marlene', 'Joachim', 'Iris', 'Walter', 'Silke', 'Niklas', 'Veronika', 'Jakob', 'Bernadette']\n"
     ]
    }
   ],
   "source": [
    "names_84 = read_names_for_year(1984)\n",
    "names_15 = read_names_for_year(2015)\n",
    "print(names_84)"
   ]
  },
  {
   "cell_type": "markdown",
   "id": "8ae4ea92",
   "metadata": {},
   "source": [
    "### Functions avoid redundancy\n",
    "The second solution is not as general-purpose as the first one (because it assumes that all first-name files are located in a certain directory and follow a certain naming scheme), but it offers another advantage besides the more compact notation when called: If, for example, something changes in the directory structure, we don't need to track this change in every single call of the function, but in exactly one place: in the function.\n",
    "\n",
    "Let's assume that for some reason we need to change the directory name from `data/first` to `data/popular_firstnames`. While in the first example we would have to search for all calls of `read_names()` and change the directory name there (which would not be so time-consuming with two calls now ;-)), in the second case we need to make the change only once (in the function):\n"
   ]
  },
  {
   "cell_type": "code",
   "execution_count": null,
   "id": "10858284",
   "metadata": {},
   "outputs": [],
   "source": [
    "def read_names_for_year(year):\n",
    "    filename = f\"data/popular_firstnames/first_{year}.txt\"\n",
    "    with open(filename) as fh:\n",
    "        names = [n.rstrip() for n in fh.readlines()]\n",
    "    return names"
   ]
  },
  {
   "cell_type": "markdown",
   "id": "7bac9813",
   "metadata": {},
   "source": [
    "But here is a warning: The reusability of a function depends strongly on its flexibility (i.e.: parameterizability). The more specialized a function is, the less often it can be reused. The opposite is also true: You can write a function very flexibly by using many parameters, but at some point the use of the function becomes so complicated that you don't want to use it anymore."
   ]
  },
  {
   "cell_type": "markdown",
   "id": "1c914ce8",
   "metadata": {},
   "source": [
    "## A function with multiple parameters"
   ]
  },
  {
   "cell_type": "markdown",
   "id": "28be72ec",
   "metadata": {},
   "source": [
    "In principle, a function can have any number of parameters. In practice, unless you have good reasons, you should limit yourself to a maximum of 3 or 4 parameters. "
   ]
  },
  {
   "cell_type": "code",
   "execution_count": 21,
   "id": "fbd8e4f0",
   "metadata": {},
   "outputs": [],
   "source": [
    "def compute_weight(length, width, height):\n",
    "    ccm = length * width * height\n",
    "    return ccm / 1000"
   ]
  },
  {
   "cell_type": "code",
   "execution_count": 22,
   "id": "9f8f5247",
   "metadata": {},
   "outputs": [
    {
     "data": {
      "text/plain": [
       "128.0"
      ]
     },
     "execution_count": 22,
     "metadata": {},
     "output_type": "execute_result"
    }
   ],
   "source": [
    "compute_weight(80, 40, 40)"
   ]
  },
  {
   "cell_type": "markdown",
   "id": "26ce3110",
   "metadata": {},
   "source": [
    "## Comments\n",
    "Documentation of source code is important because it explains the code and makes it easier to understand for later editors (which will often be you). For this purpose comments are used. The comment sign in Python is `#`. Everything to the right of the comment sign is ignored when the program is executed.\n",
    "\n",
    "However, you should only comment things that cannot be easily deduced from the code anyway:\n",
    "\n",
    "~~~\n",
    "...\n",
    "    i += 1 # increase i by 1\n",
    "...    \n",
    "~~~\n",
    "\n",
    "is a good example of an unnecessary comment. As a rule of thumb, you should take to heart: Don't document *what* happens, but *why* it happens.\n",
    "\n",
    "In the next example, we document where a particular value comes from. Here the comment makes more sense.\n",
    "\n",
    "~~~\n",
    "def compute_weight(length, width, height):\n",
    "    ccm = length * width * height\n",
    "    # we assume a water density of 1000 kg/cbm\n",
    "    # so we first convert ccm to cbm \n",
    "    # and multiply by density of water (1000 kg/cbm)\n",
    "    # so ccm / 1000000 * 1000 = ccm / 1000\n",
    "    return ccm / 1000\n",
    "~~~    "
   ]
  },
  {
   "cell_type": "markdown",
   "id": "45e7ea2a",
   "metadata": {},
   "source": [
    "## Docstrings\n",
    "Python offers a special feature with docstrings. In the form of such docstrings, the documentation becomes part of the function (docstrings can also be used for modules and packages, but we'll get to that later). A docstring must be placed immediately after the function declaration in the form of a string: "
   ]
  },
  {
   "cell_type": "code",
   "execution_count": 23,
   "id": "b79b70b0",
   "metadata": {},
   "outputs": [],
   "source": [
    "def compute_weight(length, width, height):\n",
    "    \"Return the weight of a fish tank in kg.\"\n",
    "    ccm = length * width * height\n",
    "    # we assume a water density of 1000 kg/cbm\n",
    "    # so we first convert ccm to cbm and multiply by density\n",
    "    # so ccm / 1000000 * 1000 = ccm / 1000\n",
    "    return ccm / 1000"
   ]
  },
  {
   "cell_type": "markdown",
   "id": "45c3e603",
   "metadata": {},
   "source": [
    "The docstring in this example really becomes part of the function and can be queried:"
   ]
  },
  {
   "cell_type": "code",
   "execution_count": 24,
   "id": "f14e9c7e",
   "metadata": {},
   "outputs": [
    {
     "data": {
      "text/plain": [
       "'Return the weight of a fish tank in kg.'"
      ]
     },
     "execution_count": 24,
     "metadata": {},
     "output_type": "execute_result"
    }
   ],
   "source": [
    "compute_weight.__doc__"
   ]
  },
  {
   "cell_type": "markdown",
   "id": "1e13355c",
   "metadata": {},
   "source": [
    "For example, Python's built-in `help()` function takes advantage of this to display the description of a function. But integrated development environments (IDEs) also use docstrings to display context-sensitive information about the use of a function."
   ]
  },
  {
   "cell_type": "code",
   "execution_count": 25,
   "id": "baa74d7b",
   "metadata": {},
   "outputs": [
    {
     "name": "stdout",
     "output_type": "stream",
     "text": [
      "Help on function compute_weight in module __main__:\n",
      "\n",
      "compute_weight(length, width, height)\n",
      "    Return the weight of a fish tank in kg.\n",
      "\n"
     ]
    }
   ],
   "source": [
    "help(compute_weight)"
   ]
  },
  {
   "cell_type": "markdown",
   "id": "393bdaa8",
   "metadata": {},
   "source": [
    "This is also available in a Jupyter notebook. In the cell below, write a function name (e.g. `compute_weight`) and then press the `Shift` and `Tab` keys (i.e. the shift and tab keys) simultaneously."
   ]
  },
  {
   "cell_type": "code",
   "execution_count": null,
   "id": "0fe9f4dc",
   "metadata": {},
   "outputs": [],
   "source": [
    "compute_weight"
   ]
  },
  {
   "cell_type": "markdown",
   "id": "86cdd1c8",
   "metadata": {},
   "source": [
    "### Multiline docstrings\n",
    "In addition to the basic form, more detailed docstrings can also be written:"
   ]
  },
  {
   "cell_type": "code",
   "execution_count": 26,
   "id": "c08f461b",
   "metadata": {},
   "outputs": [],
   "source": [
    "def compute_weight(length, width, height):\n",
    "    \"\"\"Compute weight of water (in kg) for a fish tank.\n",
    "    \n",
    "    Args:\n",
    "        length -- length in cm.\n",
    "        width -- width in cm.\n",
    "        height -- height in cm.\n",
    "    Returns:\n",
    "        Weight in kg as float.\n",
    "    \"\"\"\n",
    "    ccm = length * width * height\n",
    "    # we assume a water density of 1000 kg/cbm\n",
    "    # so we first convert ccm to cbm and multiply by density\n",
    "    # so ccm / 1000000 * 1000 = ccm / 1000\n",
    "    return ccm / 1000"
   ]
  },
  {
   "cell_type": "code",
   "execution_count": 27,
   "id": "a09dfc77",
   "metadata": {},
   "outputs": [
    {
     "name": "stdout",
     "output_type": "stream",
     "text": [
      "Help on function compute_weight in module __main__:\n",
      "\n",
      "compute_weight(length, width, height)\n",
      "    Compute weight of water (in kg) for a fish tank.\n",
      "    \n",
      "    Args:\n",
      "        length -- length in cm.\n",
      "        width -- width in cm.\n",
      "        height -- height in cm.\n",
      "    Returns:\n",
      "        Weight in kg as float.\n",
      "\n"
     ]
    }
   ],
   "source": [
    "help(compute_weight)"
   ]
  },
  {
   "cell_type": "markdown",
   "id": "0c2bf83a",
   "metadata": {},
   "source": [
    "<div class=\"alert alert-block alert-info\">\n",
    "<b>Exercise Func-2</b>\n",
    "<p>The density of water depends on the temperature. These values are in the `densities` dictionary. Rewrite `compute_weight` to calculate weight depending on temperature. I.e. rewrite the function so that the temperature is also passed and calculate the weight taking the temperature into account.</p>\n",
    "<div>"
   ]
  },
  {
   "cell_type": "code",
   "execution_count": 30,
   "id": "7206a364",
   "metadata": {},
   "outputs": [],
   "source": [
    "# key- temp, value - density\n",
    "densities = {0: 999.84, 1: 999.9, 2: 999.94, 3: 999.96, 4: 999.97, 5: 999.96, \n",
    "             6: 999.94, 7: 999.9, 8: 999.85, 9: 999.78, 10: 999.7, 11: 999.6, \n",
    "             12: 999.5, 13: 999.38, 14: 999.24, 15: 999.1, 16: 998.94, \n",
    "             17: 998.77, 18: 998.59, 19: 998.4, 20: 998.2, 21: 997.99, \n",
    "             22: 997.77, 23: 997.54, 24: 997.29, 25: 997.04, 26: 996.78, \n",
    "             27: 996.51, 28: 996.23, 29: 995.94, 30: 995.64, 31: 995.34, \n",
    "             32: 995.02, 33: 994.7, 34: 994.37, 35: 994.03, 36: 993.68, \n",
    "             37: 993.32, 38: 992.96, 39: 992.59, 40: 992.21, 45: 990.21, \n",
    "             50: 988.03, 55: 985.69, 60: 983.19, 65: 980.55, 70: 977.76, \n",
    "             75: 974.84, 80: 971.79, 85: 968.61, 90: 965.3, 95: 961.88, \n",
    "             100: 958.35}"
   ]
  },
  {
   "cell_type": "markdown",
   "id": "310cc0bd",
   "metadata": {},
   "source": [
    "<div class=\"alert alert-block alert-info\">\n",
    "<b>Exercise Func-3</b>\n",
    "<p>Rewrite the function from Exercise Func-2 so that it does not pass a single temperature value, but two values that are to be interpreted as an interval (from ... to). The idea behind it is that you can say: The temperature in this room is always between e.g. 10 and 30 degrees Celsius.</p>\n",
    "    <p>The function should return the highest weight for this temperature range. <i> Hint: function max()</i></p>\n",
    "<div>"
   ]
  },
  {
   "cell_type": "code",
   "execution_count": 32,
   "id": "faf881fd",
   "metadata": {},
   "outputs": [],
   "source": [
    "def compute_weight(length, width, height, temperature):\n",
    "    \"\"\"Compute weight of water (in kg) for a fish tank.\n",
    "    \n",
    "    Args:\n",
    "        length -- length in cm.\n",
    "        width -- width in cm.\n",
    "        height -- height in cm.\n",
    "    Returns:\n",
    "        Weight in kg as float.\n",
    "    \"\"\"\n",
    "    ccm = length * width * height\n",
    "    density = densities[temperature]\n",
    "    # we assume a water density of 1000 kg/cbm\n",
    "    # so we first convert ccm to cbm and multiply by density\n",
    "    # so ccm / 1000000 * 1000 = ccm / 1000\n",
    "    return ccm / 1000000 * density"
   ]
  },
  {
   "cell_type": "code",
   "execution_count": 33,
   "id": "af69cb6a",
   "metadata": {},
   "outputs": [
    {
     "data": {
      "text/plain": [
       "9.9704"
      ]
     },
     "execution_count": 33,
     "metadata": {},
     "output_type": "execute_result"
    }
   ],
   "source": [
    "compute_weight(50,20,10, 25)"
   ]
  },
  {
   "cell_type": "markdown",
   "id": "694f02eb",
   "metadata": {},
   "source": [
    "## Functions with multiple return values\n",
    "In most programming languages, functions can only return one value (unless, of course, the return values ​​are \"packed\" in a container). In Python, however, two or more values ​​can be returned directly (python interprets two or more values ​​separated by commas as a tuple -- the actual return value is therefore a tuple)."
   ]
  },
  {
   "cell_type": "code",
   "execution_count": 34,
   "id": "9379fd21",
   "metadata": {},
   "outputs": [
    {
     "name": "stdout",
     "output_type": "stream",
     "text": [
      "Current temperature: 43° Celsius (109.40° Fahrenheit)\n"
     ]
    }
   ],
   "source": [
    "import random # we need this because we do not have a thermometer attached\n",
    "\n",
    "\n",
    "def get_temperature():\n",
    "    \"Return temperature in Celsius and Fahrenheit.\"\"\"\n",
    "    # as we do not have a thermometer attached, we return a random temperature\n",
    "    celsius = random.randint(-30, 45)\n",
    "    fahrenheit = celsius * (9/5) + 32\n",
    "    return celsius, fahrenheit\n",
    "\n",
    "celsius, fahrenheit = get_temperature()\n",
    "print('Current temperature: {}° Celsius ({:0.2f}° Fahrenheit)'.format(celsius, fahrenheit))"
   ]
  },
  {
   "cell_type": "code",
   "execution_count": 36,
   "id": "cb0b9e44",
   "metadata": {},
   "outputs": [
    {
     "name": "stdout",
     "output_type": "stream",
     "text": [
      "put in the current temperature1\n",
      "Current temperature: 1° Celsius (33.80° Fahrenheit)\n"
     ]
    }
   ],
   "source": [
    "def get_temperature(celsius):\n",
    "    \"Return temperature in Celsius and Fahrenheit.\"\"\"\n",
    "    # as we do not have a thermometer attached, we return a random temperature\n",
    "    celsius = int(input('put in the current temperature'))\n",
    "    fahrenheit = celsius * (9/5) + 32\n",
    "    return celsius, fahrenheit\n",
    "\n",
    "celsius, fahrenheit = get_temperature(celsius)\n",
    "print('Current temperature: {}° Celsius ({:0.2f}° Fahrenheit)'.format(celsius, fahrenheit))"
   ]
  },
  {
   "cell_type": "markdown",
   "id": "e43cf7e4",
   "metadata": {},
   "source": [
    "## Default parameters\n",
    "Normally, the order of the arguments when calling the function must correspond to the order of the parameters in the function declaration, and all arguments must also be passed:\n",
    "\n",
    "~~~\n",
    "def set_userdata(username, age):\n",
    "     ...\n",
    "    \n",
    "set_userdata('otto', 20)\n",
    "~~~"
   ]
  },
  {
   "cell_type": "markdown",
   "id": "8efd1d5d",
   "metadata": {},
   "source": [
    "If we do not expect a parameter to be mandatory, we can set a default value for it:"
   ]
  },
  {
   "cell_type": "code",
   "execution_count": 37,
   "id": "9e123e45",
   "metadata": {},
   "outputs": [],
   "source": [
    "def set_userdata(username, age=None):\n",
    "    return username, age\n"
   ]
  },
  {
   "cell_type": "code",
   "execution_count": 38,
   "id": "bee831a6",
   "metadata": {},
   "outputs": [
    {
     "name": "stdout",
     "output_type": "stream",
     "text": [
      "('otto', 20)\n"
     ]
    }
   ],
   "source": [
    "\n",
    "print(set_userdata('otto', 20))\n"
   ]
  },
  {
   "cell_type": "code",
   "execution_count": 39,
   "id": "8b99b01f",
   "metadata": {},
   "outputs": [
    {
     "name": "stdout",
     "output_type": "stream",
     "text": [
      "('anna', None)\n"
     ]
    }
   ],
   "source": [
    "print(set_userdata('anna'))"
   ]
  },
  {
   "cell_type": "markdown",
   "id": "5eddaf85",
   "metadata": {},
   "source": [
    "If the value is supplied, it will be used in the function, if not, the default value will be used. Such parameters must be **after** all other parameters, which is why the following code block does not work."
   ]
  },
  {
   "cell_type": "code",
   "execution_count": 40,
   "id": "6a487657",
   "metadata": {},
   "outputs": [
    {
     "ename": "SyntaxError",
     "evalue": "non-default argument follows default argument (457030304.py, line 1)",
     "output_type": "error",
     "traceback": [
      "\u001b[1;36m  File \u001b[1;32m\"C:\\Users\\krusic\\AppData\\Local\\Temp\\ipykernel_25884\\457030304.py\"\u001b[1;36m, line \u001b[1;32m1\u001b[0m\n\u001b[1;33m    def set_userdata(age=None, username):\u001b[0m\n\u001b[1;37m                                       ^\u001b[0m\n\u001b[1;31mSyntaxError\u001b[0m\u001b[1;31m:\u001b[0m non-default argument follows default argument\n"
     ]
    }
   ],
   "source": [
    "def set_userdata(age=None, username):\n",
    "    return username, age"
   ]
  },
  {
   "cell_type": "markdown",
   "id": "43928f83",
   "metadata": {},
   "source": [
    "If more than one default parameter is defined, keyword arguments can be used when calling the function, which means that we no longer have to adhere to the given order:"
   ]
  },
  {
   "cell_type": "code",
   "execution_count": 41,
   "id": "100e41ab",
   "metadata": {},
   "outputs": [
    {
     "name": "stdout",
     "output_type": "stream",
     "text": [
      "('Otto', None, None, 181)\n"
     ]
    }
   ],
   "source": [
    "def set_userdata(username, age=None, weight=None, height=None):\n",
    "    return username, age, weight, height\n",
    "\n",
    "print(set_userdata('Otto', height=181))"
   ]
  },
  {
   "cell_type": "code",
   "execution_count": 42,
   "id": "8c1ace94",
   "metadata": {},
   "outputs": [
    {
     "name": "stdout",
     "output_type": "stream",
     "text": [
      "('Otto', 25, None, 181)\n"
     ]
    }
   ],
   "source": [
    "print(set_userdata('Otto', height=181, age=25))"
   ]
  },
  {
   "cell_type": "markdown",
   "id": "fb33caf6",
   "metadata": {},
   "source": [
    "## Functions with any number of parameters.\n",
    "Sometimes, at the time the function is written, it is not yet known how many parameters to expect. In this case, we can write the function declaration like this:\n",
    "\n",
    "~~~\n",
    "def my_function(*args):\n",
    "~~~\n",
    "\n",
    "In this case, all values are packed into a tuple:\n"
   ]
  },
  {
   "cell_type": "code",
   "execution_count": 43,
   "id": "352531cc",
   "metadata": {},
   "outputs": [
    {
     "name": "stdout",
     "output_type": "stream",
     "text": [
      "<class 'tuple'>\n"
     ]
    }
   ],
   "source": [
    "def my_function(*args):\n",
    "    print(type(args))\n",
    "    \n",
    "my_function(1, 2, 3)    "
   ]
  },
  {
   "cell_type": "markdown",
   "id": "a45ca046",
   "metadata": {},
   "source": [
    "With this we can write, for example, a function to determine the arithmetic mean: "
   ]
  },
  {
   "cell_type": "code",
   "execution_count": 44,
   "id": "ba74e4f2",
   "metadata": {},
   "outputs": [
    {
     "data": {
      "text/plain": [
       "2.5"
      ]
     },
     "execution_count": 44,
     "metadata": {},
     "output_type": "execute_result"
    }
   ],
   "source": [
    "def avg(*args):\n",
    "    return sum(args) / len(args)\n",
    "\n",
    "avg(1, 2, 3, 4)"
   ]
  },
  {
   "cell_type": "markdown",
   "id": "996c28db",
   "metadata": {},
   "source": [
    "# Functions: Scope"
   ]
  },
  {
   "cell_type": "markdown",
   "id": "e290a032",
   "metadata": {},
   "source": [
    "So far we have not given much thought to when and where the value of a variable is visible. However, in connection with functions we have to deal with it. It should be said in advance that this visibility is solved rather unusually in Python.\n",
    "\n",
    "Here is a first example:"
   ]
  },
  {
   "cell_type": "code",
   "execution_count": 45,
   "id": "cf80c348",
   "metadata": {},
   "outputs": [
    {
     "name": "stdout",
     "output_type": "stream",
     "text": [
      "1\n"
     ]
    }
   ],
   "source": [
    "def increase(val):\n",
    "    val += 1\n",
    "\n",
    "val = 1\n",
    "increase(val)\n",
    "print(val)"
   ]
  },
  {
   "cell_type": "markdown",
   "id": "d12e9917",
   "metadata": {},
   "source": [
    "It is essential here that the variable `val` exists within the function (`local scope`) and also outside the function (`global scope`).\n",
    "\n",
    "Although we increase the value within the function by 1 (line 2), and thus `val` should have the value 2 at `print(val)` (line 6), `1` is output there as the value of `val`. This requires further investigation. \n",
    "\n",
    "*Note: If you do not see the line numbers, press the following key combination: (Shift+L)."
   ]
  },
  {
   "cell_type": "markdown",
   "id": "65445713",
   "metadata": {},
   "source": [
    "To track down the behavior, we also let the value of `val` be output within the function (line 3):"
   ]
  },
  {
   "cell_type": "code",
   "execution_count": 46,
   "id": "48b6964b",
   "metadata": {},
   "outputs": [
    {
     "name": "stdout",
     "output_type": "stream",
     "text": [
      "val in the function: 2\n",
      "val outside of the function: 1\n"
     ]
    }
   ],
   "source": [
    "def increase(val):\n",
    "    val += 1\n",
    "    print(\"val in the function: {}\".format(val))\n",
    "\n",
    "val = 1\n",
    "increase(val)\n",
    "print(\"val outside of the function: {}\".format(val))"
   ]
  },
  {
   "cell_type": "code",
   "execution_count": 49,
   "id": "c59aca5b",
   "metadata": {},
   "outputs": [
    {
     "name": "stdout",
     "output_type": "stream",
     "text": [
      "None\n"
     ]
    }
   ],
   "source": [
    "print(increasing)"
   ]
  },
  {
   "cell_type": "code",
   "execution_count": 48,
   "id": "6f229cfb",
   "metadata": {},
   "outputs": [
    {
     "name": "stdout",
     "output_type": "stream",
     "text": [
      "val in the function: 2\n"
     ]
    }
   ],
   "source": [
    "increasing = increase(val)"
   ]
  },
  {
   "cell_type": "markdown",
   "id": "cfe81f7d",
   "metadata": {},
   "source": [
    "We have in this example two scopes for the variable `val` (and thus, if you like, two variables): one **globally** valid and a second **locally** visible only within the function. The variable `val` inside the function becomes a copy of the global value the moment it is changed inside the function.\n",
    "\n",
    "If we now change the value of `val` within the function, this only affects the local `val`, i.e. the copy available exclusively within the function, which is automatically deleted again when we return from the function.\n",
    "\n",
    "This behavior can be seen in the next example:"
   ]
  },
  {
   "cell_type": "code",
   "execution_count": 50,
   "id": "9d0b0354",
   "metadata": {},
   "outputs": [
    {
     "name": "stdout",
     "output_type": "stream",
     "text": [
      "[a]: id of val outside of the function: 2214262696240\n",
      "[b]: id of val in the function (before changing): 2214262696240\n",
      "[c]: id of val in the function (after changing): 2214262696272\n",
      "[d]: id of val outside of the function: 2214262696240\n"
     ]
    }
   ],
   "source": [
    "def increase(val):\n",
    "    print(f\"[b]: id of val in the function (before changing): {id(val)}\")\n",
    "    val += 1\n",
    "    print(f\"[c]: id of val in the function (after changing): {id(val)}\")\n",
    "\n",
    "val = 1\n",
    "print(f\"[a]: id of val outside of the function: {id(val)}\")\n",
    "\n",
    "increase(val)\n",
    "print(f\"[d]: id of val outside of the function: {id(val)}\")"
   ]
  },
  {
   "cell_type": "markdown",
   "id": "14c162af",
   "metadata": {},
   "source": [
    "At the first `print()` within the function, val still has the id of the global variable ([a] and [b]). Only when we change its value, the local `val` gets a new id ([c]). The global `val` keeps its original id ([d])."
   ]
  },
  {
   "cell_type": "markdown",
   "id": "da5438c9",
   "metadata": {},
   "source": [
    "### Visibility of global variables"
   ]
  },
  {
   "cell_type": "markdown",
   "id": "29cdde5b",
   "metadata": {},
   "source": [
    "Global variables are visible everywhere, local variables only in their local context (i.e. within the function). Let's first look at an example where we try to access a local variable in the global context:"
   ]
  },
  {
   "cell_type": "code",
   "execution_count": null,
   "id": "97b6f7d8",
   "metadata": {},
   "outputs": [],
   "source": [
    "def increase():\n",
    "    local_val = 1\n",
    "    \n",
    "increase()\n",
    "print(local_val)"
   ]
  },
  {
   "cell_type": "markdown",
   "id": "b1fae11b",
   "metadata": {},
   "source": [
    "The error message `'local_val' is not defined` clearly says that there is no such variable in the global namespace.\n",
    "\n",
    "Now let's look at the opposite case: Global variables are also visible in local contexts. Or in other words: Global variables can be accessed within a function (even if they have not been passed to the function):\n"
   ]
  },
  {
   "cell_type": "code",
   "execution_count": null,
   "id": "13242f54",
   "metadata": {},
   "outputs": [],
   "source": [
    "def increase():\n",
    "    print(f\"the value of the global variable 'val' is {val}\")\n",
    "\n",
    "val = 1\n",
    "increase()"
   ]
  },
  {
   "cell_type": "markdown",
   "id": "77fafb5c",
   "metadata": {},
   "source": [
    "Although we did not pass `val` as an argument to the function and thus did not create a local variable, we can use it within the function.\n",
    "\n",
    "However, this only applies to read accesses. As soon as we try to change the value of the global variable `val` within the function, Python will reject it:"
   ]
  },
  {
   "cell_type": "code",
   "execution_count": null,
   "id": "0a12e5e3",
   "metadata": {},
   "outputs": [],
   "source": [
    "def increase():\n",
    "    val = val + 1\n",
    "\n",
    "val = 1\n",
    "increase()\n",
    "print(val)"
   ]
  },
  {
   "cell_type": "markdown",
   "id": "22800743",
   "metadata": {},
   "source": [
    "This mechanism is intended to prevent us from mistakenly changing the value of a global variable within a function as a side effect. Such side effects namely lead to errors that are very difficult to find."
   ]
  },
  {
   "cell_type": "markdown",
   "id": "3efce073",
   "metadata": {},
   "source": [
    "But what happened in the original example with the local and global variable of the same name? Here is the code again:"
   ]
  },
  {
   "cell_type": "code",
   "execution_count": null,
   "id": "11945958",
   "metadata": {},
   "outputs": [],
   "source": [
    "def increase(val):\n",
    "    val += 1\n",
    "    print(f\"val inside of the function: {val}\")\n",
    "\n",
    "val = 1\n",
    "increase(val)\n",
    "print(f\"val outside of the function: {val}\")"
   ]
  },
  {
   "cell_type": "markdown",
   "id": "19405796",
   "metadata": {},
   "source": [
    "We have set the parameter name `val` when defining the function and thus defined a local variable. Both variables have the same name, but are different. It is said that the local variable (within the function) **overlays** the global one. Thus, the global variable with the same name is no longer visible within the function. If we had named the local variable differently (in the function declaration), we could also access (read) the global variable within the function:"
   ]
  },
  {
   "cell_type": "code",
   "execution_count": null,
   "id": "06ebb267",
   "metadata": {},
   "outputs": [],
   "source": [
    "def increase(innerval):\n",
    "    innerval += 1\n",
    "    print(f\"in the function: val = {val}; innerval = {innerval}\")\n",
    "\n",
    "val = 1\n",
    "increase(val)\n",
    "print(f\"outside of the function: val = {val}\")"
   ]
  },
  {
   "cell_type": "markdown",
   "id": "cb4a2b83",
   "metadata": {},
   "source": [
    "### Visibility range of mutable data types\n",
    "We saw above that if we pass a value as an argument to a function, and the function modifies that value, a local copy of that value is created within the function. Within the function, all operations are then applied to this local copy (and not to the global value). So the global value remains unchanged."
   ]
  },
  {
   "cell_type": "code",
   "execution_count": null,
   "id": "ea183087",
   "metadata": {},
   "outputs": [],
   "source": [
    "def increase(val):\n",
    "    print(f\"val in the function before the change: {val}, id: {id(val)}\")\n",
    "    val += 1\n",
    "    print(f\"val in the function after the change: {val}, id: {id(val)}\")\n",
    "\n",
    "val = 1\n",
    "increase(val)\n",
    "print(f\"val outside of the function: {val}, id: {id(val)}\")"
   ]
  },
  {
   "cell_type": "markdown",
   "id": "7faec130",
   "metadata": {},
   "source": [
    "However, the above is **only true for non-modifiable data types** such as strings, integers, floats, etc.\n",
    "\n",
    "If we pass a changeable value to a function and change it within the function, no copy is created, but the original value is changed. So no local copy is created! This was a conscious decision in the design of the language, since the production of a copy e.g. of a large, multi-dimensional list is very aufw?ndig. \n",
    "\n",
    "Changeable data types like lists, dictionaries or sets are not copied, but the value of the global variable is changed, as we can see in the following example:"
   ]
  },
  {
   "cell_type": "code",
   "execution_count": null,
   "id": "7bb4b0b6",
   "metadata": {},
   "outputs": [],
   "source": [
    "def compute_final_grade(grades):\n",
    "    print(f\"(b) {grades} {id(grades)}\")\n",
    "    grades[1] = 1\n",
    "    print(f\"(c) {grades} {id(grades)}\")\n",
    "    \n",
    "grades = [3, 5, 4, 1]    \n",
    "print(f\"(a) {grades} {id(grades)}\")\n",
    "compute_final_grade(grades)\n",
    "print(f\"(d) {grades} {id(grades)}\")"
   ]
  },
  {
   "cell_type": "markdown",
   "id": "0419af14",
   "metadata": {},
   "source": [
    "As we can see, `grades` is the same object (with the same id) inside the function as outside, even if we change a value (line 3)."
   ]
  },
  {
   "cell_type": "markdown",
   "id": "ca1cf93e",
   "metadata": {},
   "source": [
    "This behavior can quickly lead to unintended side effects and thus to errors that are very difficult to find. The easiest way to protect yourself against this is to \n",
    "\n",
    "   * not using mutable types (lists, dictionaries, ...) as function arguments\n",
    "   * or at least make sure that they are not changed within the function. \n",
    "     are not changed within the function \n",
    "   * Alternatively you can use copies or type changes on non-modifiable\n",
    "     changeable types (like tuples). \n",
    "     \n",
    "As a rule of thumb, however, one should avoid using mutable types as function arguments."
   ]
  },
  {
   "cell_type": "markdown",
   "id": "0a79f724",
   "metadata": {},
   "source": [
    "# Print vs return"
   ]
  },
  {
   "cell_type": "markdown",
   "id": "5ee9c1af",
   "metadata": {},
   "source": [
    "`print` shows the human user a string representing what is going on inside the computer. The computer cannot make use of that printing. \n",
    "\n",
    "On the other hand,`return` is how a function gives back a value. This value is often unseen by the human user, but it can be used by the computer in further functions.\n",
    "\n",
    "`print` will not in any way affect a function. It is simply there for the human user’s benefit. It is very useful for understanding how a program works and can be used in debugging to check various values in a program without interrupting the program.\n",
    "\n",
    "`return` is the main way that a function returns a value. All functions will return a value, and if there is no return statement, it will return `None`. The value that is returned by a function can then be further used as an argument passed to another function, stored as a variable, or just printed for the benefit of the human user.\n",
    "\n"
   ]
  },
  {
   "cell_type": "code",
   "execution_count": 1,
   "id": "b2eead9a",
   "metadata": {},
   "outputs": [],
   "source": [
    "def function_that_prints():\n",
    "    print (\"I printed\")\n",
    "\n",
    "def function_that_returns():\n",
    "    return (\"I returned\")\n",
    "\n",
    "\n"
   ]
  },
  {
   "cell_type": "code",
   "execution_count": 2,
   "id": "7e10959a",
   "metadata": {},
   "outputs": [
    {
     "name": "stdout",
     "output_type": "stream",
     "text": [
      "I printed\n"
     ]
    }
   ],
   "source": [
    "f1 = function_that_prints()\n",
    "f2 = function_that_returns()\n"
   ]
  },
  {
   "cell_type": "code",
   "execution_count": 3,
   "id": "6b6a8d6b",
   "metadata": {},
   "outputs": [
    {
     "name": "stdout",
     "output_type": "stream",
     "text": [
      "Now let us see what the values of f1 and f2 are\n"
     ]
    }
   ],
   "source": [
    "print (\"Now let us see what the values of f1 and f2 are\")"
   ]
  },
  {
   "cell_type": "code",
   "execution_count": 5,
   "id": "ca630216",
   "metadata": {},
   "outputs": [
    {
     "name": "stdout",
     "output_type": "stream",
     "text": [
      "None\n"
     ]
    }
   ],
   "source": [
    "print(f1)"
   ]
  },
  {
   "cell_type": "code",
   "execution_count": 6,
   "id": "7925eb2b",
   "metadata": {},
   "outputs": [
    {
     "name": "stdout",
     "output_type": "stream",
     "text": [
      "I returned\n"
     ]
    }
   ],
   "source": [
    "print(f2)"
   ]
  },
  {
   "cell_type": "markdown",
   "id": "f6d89344",
   "metadata": {},
   "source": [
    "# Literature\n",
    "*  Python Tutorial: \n",
    "\t* Kapitel 4.6 - Defining Functions \n",
    "      (https://docs.python.org/3/tutorial/controlflow.html#defining-functions)\n",
    "    * Kapitel 4.7 - More on Defining Functions\n",
    "\t  (https://docs.python.org/3/tutorial/controlflow.html#more-on-defining-functions)\n",
    "* Sweigart: https://automatetheboringstuff.com/2e/chapter3/  \n",
    "* Geeks4geeks: https://www.geeksforgeeks.org/python-functions/\n",
    "* W3Schools: https://www.w3schools.com/python/python_functions.asp\n",
    "* max() - https://www.w3schools.com/python/ref_func_max.asp\n",
    "* Video: Ned Batchelder - Facts and Myths about Python names and values - PyCon \n",
    "    2015 (https://www.youtube.com/watch?v=_AEJHKGk9ns)\n",
    "               "
   ]
  },
  {
   "cell_type": "code",
   "execution_count": null,
   "id": "beb0ece7",
   "metadata": {},
   "outputs": [],
   "source": []
  }
 ],
 "metadata": {
  "kernelspec": {
   "display_name": "Python 3 (ipykernel)",
   "language": "python",
   "name": "python3"
  },
  "language_info": {
   "codemirror_mode": {
    "name": "ipython",
    "version": 3
   },
   "file_extension": ".py",
   "mimetype": "text/x-python",
   "name": "python",
   "nbconvert_exporter": "python",
   "pygments_lexer": "ipython3",
   "version": "3.9.13"
  }
 },
 "nbformat": 4,
 "nbformat_minor": 5
}
